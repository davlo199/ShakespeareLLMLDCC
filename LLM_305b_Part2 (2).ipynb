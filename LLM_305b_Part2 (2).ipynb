{
  "cells": [
    {
      "cell_type": "markdown",
      "source": [
        "### Note: The proposed improvements to the basic transformer model are below the baseline version of the model in this file. (See Part 2)"
      ],
      "metadata": {
        "id": "be-pPr5VeA8O"
      }
    },
    {
      "cell_type": "code",
      "execution_count": 12,
      "metadata": {
        "id": "K932VmrEc4lh"
      },
      "outputs": [],
      "source": [
        "# torch imports\n",
        "import torch\n",
        "import torch.nn as nn\n",
        "import torch.nn.functional as F\n",
        "import torch.optim as optim\n",
        "a\n",
        "import matplotlib.pyplot as plt\n",
        "from tqdm import tqdm\n",
        "\n",
        "import requests\n",
        "import os\n",
        "\n",
        "torch.manual_seed(305)\n",
        "\n",
        "device = 'cuda' if torch.cuda.is_available() else 'cpu'"
      ]
    },
    {
      "cell_type": "code",
      "execution_count": 13,
      "metadata": {
        "id": "A_Z5Jh74DH_E"
      },
      "outputs": [],
      "source": [
        "# Global hyperparameters\n",
        "SMALL_ITERS = 1000\n",
        "LARGE_ITERS = 2000\n",
        "EVAL_ITERS = 100\n",
        "CONTEXT_WINDOW_SIZE = 256"
      ]
    },
    {
      "cell_type": "code",
      "execution_count": 14,
      "metadata": {
        "colab": {
          "base_uri": "https://localhost:8080/"
        },
        "id": "53dGz7ExDkUv",
        "outputId": "dd6cbf18-49bf-4e72-c251-82597da0463d"
      },
      "outputs": [
        {
          "output_type": "stream",
          "name": "stdout",
          "text": [
            "length of dataset in characters: 1,115,394\n"
          ]
        }
      ],
      "source": [
        "# download the tiny shakespeare dataset\n",
        "input_file_path = 'input.txt'\n",
        "\n",
        "if not os.path.exists(input_file_path):\n",
        "    data_url = 'https://raw.githubusercontent.com/karpathy/char-rnn/master/data/tinyshakespeare/input.txt'\n",
        "    with open(input_file_path, 'w') as f:\n",
        "        f.write(requests.get(data_url).text)\n",
        "\n",
        "with open(input_file_path, 'r') as f:\n",
        "    data = f.read()\n",
        "print(f\"length of dataset in characters: {len(data):,}\")"
      ]
    },
    {
      "cell_type": "code",
      "execution_count": 15,
      "metadata": {
        "colab": {
          "base_uri": "https://localhost:8080/"
        },
        "id": "b2HuC2F9p_4K",
        "outputId": "21509c72-3064-4c96-d955-af76a83d5c75"
      },
      "outputs": [
        {
          "output_type": "stream",
          "name": "stdout",
          "text": [
            "all the unique characters: \n",
            " !$&',-.3:;?ABCDEFGHIJKLMNOPQRSTUVWXYZabcdefghijklmnopqrstuvwxyz\n",
            "vocab size: 65\n"
          ]
        }
      ],
      "source": [
        "# get all the unique characters that occur in this text\n",
        "chars = sorted(list(set(data)))\n",
        "vocab_size = len(chars)\n",
        "print(\"all the unique characters:\", ''.join(chars))\n",
        "print(f\"vocab size: {vocab_size:,}\")"
      ]
    },
    {
      "cell_type": "code",
      "execution_count": 16,
      "metadata": {
        "colab": {
          "base_uri": "https://localhost:8080/"
        },
        "id": "JEWx5jnKqDzT",
        "outputId": "eafecc9e-e902-47bc-8338-64dd3c7a8d8c"
      },
      "outputs": [
        {
          "output_type": "stream",
          "name": "stdout",
          "text": [
            "train has 1,003,854 tokens\n",
            "val has 111,540 tokens\n"
          ]
        }
      ],
      "source": [
        "# create a mapping from characters to integers\n",
        "stoi = { ch:i for i,ch in enumerate(chars) }\n",
        "itos = { i:ch for i,ch in enumerate(chars) }\n",
        "\n",
        "def encode(s):\n",
        "    return [stoi[c] for c in s] # encoder: take a string, output a list of integers\n",
        "def decode(l):\n",
        "    return ''.join([itos[i] for i in l]) # decoder: take a list of integers, output a string\n",
        "\n",
        "# create the train and test splits\n",
        "n = len(data)\n",
        "train_chars = data[:int(n*0.9)]\n",
        "val_chars = data[int(n*0.9):]\n",
        "\n",
        "# encode both to integers\n",
        "train_data = encode(train_chars)\n",
        "val_data = encode(val_chars)\n",
        "\n",
        "# cast as torch tensors\n",
        "train_data = torch.tensor(train_data)\n",
        "val_data = torch.tensor(val_data)\n",
        "\n",
        "print(f\"train has {len(train_data):,} tokens\")\n",
        "print(f\"val has {len(val_data):,} tokens\")"
      ]
    },
    {
      "cell_type": "code",
      "execution_count": 17,
      "metadata": {
        "id": "AkAD0PfiEfjG"
      },
      "outputs": [],
      "source": [
        "# function for getting batches of data\n",
        "def get_batch(split, context_window_size, device, batch_size=32):\n",
        "    \"\"\"\n",
        "    generate a small batch of data of inputs x and targets y\n",
        "\n",
        "    Args:\n",
        "        split: 'train' or 'val'\n",
        "        device: 'cpu' or 'cuda' (should be 'cuda' if available)\n",
        "    \"\"\"\n",
        "    data = train_data if split == 'train' else val_data\n",
        "    ix = torch.randint(len(data) - context_window_size, (batch_size,))  # generate a bunch of starting positions\n",
        "    x = torch.stack([data[i:i+context_window_size] for i in ix]) # stack the data from each starting point\n",
        "    y = torch.stack([data[i+1:i+context_window_size+1] for i in ix])\n",
        "    x = x.to(device)\n",
        "    y = y.to(device)\n",
        "    return x, y\n",
        "\n",
        "# helper function for tracking loss during training\n",
        "# given to you\n",
        "@torch.no_grad()\n",
        "def estimate_loss(model, eval_iters, context_window_size, device):\n",
        "    \"\"\"\n",
        "    Args:\n",
        "      model: model being evaluated\n",
        "      eval_iters: number of batches to average over\n",
        "      context_window_size: size of the context window\n",
        "      device: 'cpu' or 'cuda' (should be 'cuda' if available)\n",
        "    \"\"\"\n",
        "    out = {}\n",
        "    for split in ['train', 'val']:\n",
        "        losses = torch.zeros(eval_iters)\n",
        "        for k in range(eval_iters):\n",
        "            X, Y = get_batch(split, context_window_size, device)\n",
        "            logits, loss = model(X, Y)\n",
        "            losses[k] = loss.item()\n",
        "        out[split] = losses.mean()\n",
        "    return out"
      ]
    },
    {
      "cell_type": "code",
      "execution_count": 18,
      "metadata": {
        "id": "O_eBPiT-Yy0q"
      },
      "outputs": [],
      "source": [
        "class Head(nn.Module):\n",
        "    \"\"\" one head of self-attention \"\"\"\n",
        "\n",
        "    def __init__(self, head_size, context_window_size, embed_size=384):\n",
        "        \"\"\"\n",
        "        Args:\n",
        "          head_size: int, size of the head embedding dimension (K)\n",
        "          context_window_size: int, number of tokens considered in the past for attention (T)\n",
        "          embed_size: int, size of the token embedding dimension (D)\n",
        "        \"\"\"\n",
        "        super().__init__()\n",
        "        self.head_size = head_size\n",
        "        self.key = nn.Linear(embed_size, head_size, bias=False)\n",
        "        self.query = nn.Linear(embed_size, head_size, bias=False)\n",
        "        self.value = nn.Linear(embed_size, embed_size, bias=False)\n",
        "\n",
        "        # not a param of the model, so registered as a buffer\n",
        "        self.register_buffer('tril', torch.tril(\n",
        "            torch.ones(context_window_size, context_window_size))) # lower diagonal matrix\n",
        "\n",
        "    def forward(self, x):\n",
        "        \"\"\"\n",
        "        Args:\n",
        "          x: (B,T,D) tensor of token embeddings\n",
        "\n",
        "        Returns:\n",
        "          (B,T,D) tensor of attention-weighted token embeddings\n",
        "        \"\"\"\n",
        "        # attn_weights = torch.einsum('btd, btd -> btt', self.query(x), self.key(x)) # (B,T)\n",
        "        # attn_weights = self.query(x) @ self.key(x).transpose(1,2) # (B,T,T)\n",
        "\n",
        "        attn_weights = self.query(x) @ self.key(x).transpose(-2,-1) # (B,T,T)\n",
        "        # (self.query(x) @ self.key(x).transpose(1,2)).shape # (B,T,T)\n",
        "        # if len(attn_weights.shape) == 2:\n",
        "        #     attn_weights = attn_weights.unsqueeze(0)\n",
        "        attn_weights = attn_weights.masked_fill((self.tril==0)[0:attn_weights.shape[1],0:attn_weights.shape[2]], float('-inf')) # (B,T,T)\n",
        "        attn_weights = F.softmax(attn_weights/(self.head_size**(1/2)), dim=-1) # (B,T,T)\n",
        "        # if len(attn_weights.shape) == 2:\n",
        "        #     avg_embeddings = torch.einsum('tt, td -> td', attn_weights, self.value(x)) #\n",
        "        # else:\n",
        "\n",
        "        # avg_embeddings = torch.einsum('btt, btd -> btd', attn_weights, self.value(x)) # (B,T,D) # self.value(x) gives (B,T,D), attn_weights gives (B,T)\n",
        "        avg_embeddings = torch.einsum('bij,bjd->bid', attn_weights, self.value(x))\n",
        "        return avg_embeddings\n",
        "\n",
        "\n",
        "\n",
        "        # pass"
      ]
    },
    {
      "cell_type": "code",
      "execution_count": 19,
      "metadata": {
        "id": "REr3aWnS1xJL"
      },
      "outputs": [],
      "source": [
        "class SingleHeadedAttentionLM(nn.Module):\n",
        "\n",
        "    def __init__(self, vocab_size, context_window_size, head_size, embed_size=384):\n",
        "      \"\"\"\n",
        "      Args:\n",
        "        vocab_size: int, size of the vocabulary (V)\n",
        "        context_window_size: int, number of tokens considered in the past for attention (T)\n",
        "        head_size: int, size of the head embedding dimension (K)\n",
        "        embed_size: int, size of the token embedding dimension (D)\n",
        "      \"\"\"\n",
        "      super().__init__()\n",
        "      self.token_embedding_table = nn.Embedding(vocab_size, embed_size) # X which we will pass to the head\n",
        "      self.position_embedding_table = nn.Embedding(context_window_size, embed_size)\n",
        "      self.context_window_size = context_window_size\n",
        "\n",
        "      # TODO: your code below\n",
        "      self.atten_head = Head(head_size, context_window_size, embed_size)\n",
        "      self.lm_head = nn.Linear(embed_size, vocab_size) # as in part 1.2, we learn a beta matrix to get logits. See \"autoregressive modeling\" slide, W\\in \\R^VxD, st l_{t+1} = Cat(Wx_t)\n",
        "      self.vocab_size = vocab_size\n",
        "      self.embed_size = embed_size\n",
        "\n",
        "    def forward(self, token_ids, targets=None):\n",
        "        \"\"\"\n",
        "        Args:\n",
        "          token_ids: (B, T) token ids that make up the context (batch has size B, each entry\n",
        "                     in the batch has length T)\n",
        "          targets: (B, T) token ids corresponding to the target of each context in token_ids\n",
        "\n",
        "        Returns:\n",
        "          logits: (B, T, V) logits[b,t] gives the length V vector of logits for the next token\n",
        "                   prediction in string b up to t tokens\n",
        "          loss: scalar, negative log likelihood of target given context\n",
        "        \"\"\"\n",
        "\n",
        "\n",
        "        B, T = token_ids.shape # (batch size, length)\n",
        "        tok_emb = self.token_embedding_table(token_ids) # (B,T,D)\n",
        "        pos_emb = self.position_embedding_table(torch.arange(T, device=device)) # (T,D)\n",
        "        x = tok_emb + pos_emb # (B,T,D)\n",
        "        x = self.atten_head(x) # (B,T,D)\n",
        "        logits = self.lm_head(x) # (B,T,V)\n",
        "\n",
        "        # TODO: your code here\n",
        "        # logits =\n",
        "        loss_fcn = torch.nn.CrossEntropyLoss()\n",
        "        loss = loss_fcn(logits.reshape(-1, self.vocab_size), targets.reshape(-1)) # as before\n",
        "\n",
        "        return logits, loss\n",
        "\n",
        "    @torch.no_grad()\n",
        "    def generate(self, token_ids, max_new_tokens):\n",
        "\n",
        "\n",
        "        \"\"\"\n",
        "        Args:\n",
        "          token_ids: (B, T) tensor of token ids to provide as context\n",
        "          max_new_tokens: int, maximum number of new tokens to generate\n",
        "\n",
        "        Returns:\n",
        "          (B, T+max_new_tokens) tensor of context with new tokens appended\n",
        "        \"\"\"\n",
        "        #TODO\n",
        "        # your code below\n",
        "        #feels janky to for loop this but dont see a choice?\n",
        "\n",
        "        for i in range(max_new_tokens):\n",
        "            B, T = token_ids.shape # (batch size, length)\n",
        "            tok_emb = self.token_embedding_table(token_ids[:,-self.context_window_size:]) # (B,T,D)\n",
        "            pos_emb = self.position_embedding_table(torch.arange(self.context_window_size, device=device)) # (T,D)\n",
        "            x = tok_emb + pos_emb # (B,T,D)\n",
        "            x = self.atten_head(x) # (B,T,D)\n",
        "            logits = self.lm_head(x) # (B,T,V)\n",
        "            new_token = torch.argmax(logits[:,-1],dim=1) # best token for each batch\n",
        "            token_ids = torch.cat([token_ids,new_token.unsqueeze(1)],dim=1)\n",
        "\n",
        "        # return decode(token_ids.tolist())\n",
        "        return token_ids\n",
        "\n",
        "        # pass"
      ]
    },
    {
      "cell_type": "code",
      "execution_count": 20,
      "metadata": {
        "colab": {
          "base_uri": "https://localhost:8080/"
        },
        "id": "070G_l0E0uG9",
        "outputId": "1dcbf9fe-f21a-46a2-c03c-a3f45d05da16"
      },
      "outputs": [
        {
          "output_type": "stream",
          "name": "stderr",
          "text": [
            "\r  0%|          | 0/1000 [00:00<?, ?it/s]"
          ]
        },
        {
          "output_type": "stream",
          "name": "stdout",
          "text": [
            "iteration 0\n"
          ]
        },
        {
          "output_type": "stream",
          "name": "stderr",
          "text": [
            "  1%|          | 11/1000 [00:01<01:16, 12.94it/s]"
          ]
        },
        {
          "output_type": "stream",
          "name": "stdout",
          "text": [
            "step 0: train loss 4.1781, val loss 4.1782\n"
          ]
        },
        {
          "output_type": "stream",
          "name": "stderr",
          "text": [
            " 20%|██        | 200/1000 [00:03<00:10, 77.77it/s]"
          ]
        },
        {
          "output_type": "stream",
          "name": "stdout",
          "text": [
            "iteration 200\n"
          ]
        },
        {
          "output_type": "stream",
          "name": "stderr",
          "text": [
            " 22%|██▏       | 216/1000 [00:04<00:28, 27.42it/s]"
          ]
        },
        {
          "output_type": "stream",
          "name": "stdout",
          "text": [
            "step 200: train loss 2.5814, val loss 2.5836\n"
          ]
        },
        {
          "output_type": "stream",
          "name": "stderr",
          "text": [
            " 40%|███▉      | 396/1000 [00:06<00:07, 76.59it/s]"
          ]
        },
        {
          "output_type": "stream",
          "name": "stdout",
          "text": [
            "iteration 400\n"
          ]
        },
        {
          "output_type": "stream",
          "name": "stderr",
          "text": [
            " 41%|████      | 412/1000 [00:08<00:22, 26.36it/s]"
          ]
        },
        {
          "output_type": "stream",
          "name": "stdout",
          "text": [
            "step 400: train loss 2.5230, val loss 2.5427\n"
          ]
        },
        {
          "output_type": "stream",
          "name": "stderr",
          "text": [
            " 60%|█████▉    | 597/1000 [00:10<00:06, 60.31it/s]"
          ]
        },
        {
          "output_type": "stream",
          "name": "stdout",
          "text": [
            "iteration 600\n"
          ]
        },
        {
          "output_type": "stream",
          "name": "stderr",
          "text": [
            "\r 60%|██████    | 604/1000 [00:12<00:33, 11.86it/s]"
          ]
        },
        {
          "output_type": "stream",
          "name": "stdout",
          "text": [
            "step 600: train loss 2.4219, val loss 2.4518\n"
          ]
        },
        {
          "output_type": "stream",
          "name": "stderr",
          "text": [
            " 80%|███████▉  | 798/1000 [00:16<00:03, 56.29it/s]"
          ]
        },
        {
          "output_type": "stream",
          "name": "stdout",
          "text": [
            "iteration 800\n"
          ]
        },
        {
          "output_type": "stream",
          "name": "stderr",
          "text": [
            " 81%|████████  | 810/1000 [00:18<00:11, 16.44it/s]"
          ]
        },
        {
          "output_type": "stream",
          "name": "stdout",
          "text": [
            "step 800: train loss 2.3838, val loss 2.4197\n"
          ]
        },
        {
          "output_type": "stream",
          "name": "stderr",
          "text": [
            "100%|█████████▉| 998/1000 [00:20<00:00, 74.94it/s]"
          ]
        },
        {
          "output_type": "stream",
          "name": "stdout",
          "text": [
            "iteration 999\n"
          ]
        },
        {
          "output_type": "stream",
          "name": "stderr",
          "text": [
            "\r100%|██████████| 1000/1000 [00:21<00:00, 46.38it/s]"
          ]
        },
        {
          "output_type": "stream",
          "name": "stdout",
          "text": [
            "step 999: train loss 2.3572, val loss 2.3973\n"
          ]
        },
        {
          "output_type": "stream",
          "name": "stderr",
          "text": [
            "\n"
          ]
        }
      ],
      "source": [
        "embed_size = 384\n",
        "sha_model = SingleHeadedAttentionLM(vocab_size, CONTEXT_WINDOW_SIZE, embed_size, embed_size)\n",
        "sham = sha_model.to(device)\n",
        "learning_rate = 6e-4\n",
        "optimizer = torch.optim.AdamW(sha_model.parameters(), lr=learning_rate)\n",
        "\n",
        "eval_interval = 200\n",
        "\n",
        "loss_list = []\n",
        "\n",
        "for it in tqdm(range(SMALL_ITERS)):\n",
        "\n",
        "    # every once in a while evaluate the loss on train and val sets\n",
        "    if it % eval_interval == 0 or it == SMALL_ITERS - 1:\n",
        "        print(f\"iteration {it}\")\n",
        "        losses = estimate_loss(sham, EVAL_ITERS, CONTEXT_WINDOW_SIZE, device)\n",
        "        print(\n",
        "            f\"step {it}: train loss {losses['train']:.4f}, val loss {losses['val']:.4f}\"\n",
        "        )\n",
        "\n",
        "    # sample a batch of data\n",
        "    xb, yb = get_batch(\"train\", CONTEXT_WINDOW_SIZE, device)\n",
        "\n",
        "    # evaluate the loss\n",
        "    logits, loss = sham(xb, yb)\n",
        "    loss_list.append(loss.detach().item())\n",
        "    optimizer.zero_grad(set_to_none=True)\n",
        "    loss.backward()\n",
        "    optimizer.step()"
      ]
    },
    {
      "cell_type": "code",
      "execution_count": 21,
      "metadata": {
        "colab": {
          "base_uri": "https://localhost:8080/",
          "height": 35
        },
        "id": "fdq1N6GnOhIQ",
        "outputId": "4940c497-0164-46f4-8724-fac0914481b8"
      },
      "outputs": [
        {
          "output_type": "execute_result",
          "data": {
            "text/plain": [
              "'loss and the the the the the the the the the the the the the the the the the the the the the the the the t'"
            ],
            "application/vnd.google.colaboratory.intrinsic+json": {
              "type": "string"
            }
          },
          "metadata": {},
          "execution_count": 21
        }
      ],
      "source": [
        "tokens_out = sha_model.generate(xb, max_new_tokens=100)\n",
        "decode(tokens_out[20,250:].tolist())"
      ]
    },
    {
      "cell_type": "code",
      "source": [
        "import seaborn as sns"
      ],
      "metadata": {
        "id": "yEnrPEvQdYIK"
      },
      "execution_count": 22,
      "outputs": []
    },
    {
      "cell_type": "code",
      "execution_count": 23,
      "metadata": {
        "colab": {
          "base_uri": "https://localhost:8080/",
          "height": 489
        },
        "id": "rB4r2aK1OhIQ",
        "outputId": "026356a7-1e05-45c0-9a08-e33cadaf58ac"
      },
      "outputs": [
        {
          "output_type": "execute_result",
          "data": {
            "text/plain": [
              "Text(0, 0.5, 'Loss')"
            ]
          },
          "metadata": {},
          "execution_count": 23
        },
        {
          "output_type": "display_data",
          "data": {
            "text/plain": [
              "<Figure size 640x480 with 1 Axes>"
            ],
            "image/png": "[encoded data removed]"
          },
          "metadata": {}
        }
      ],
      "source": [
        "sns.lineplot(x=range(SMALL_ITERS), y=loss_list)\n",
        "plt.title(\"Loss in training, Single Headed Attention\")\n",
        "plt.xlabel(\"Iterations\")\n",
        "plt.ylabel(\"Loss\")"
      ]
    },
    {
      "cell_type": "markdown",
      "metadata": {
        "id": "u05NFXpo0wWs"
      },
      "source": [
        "---\n",
        "\n",
        "In terms of training loss we definitely see an improvement. In particular the loss decreases to approximately 2, however it is slightly noisier around the optima.\n",
        "\n",
        "---"
      ]
    },
    {
      "cell_type": "markdown",
      "metadata": {
        "id": "7wjXYf-S4Lus"
      },
      "source": [
        "#### 1.3.3: Multi-headed attention"
      ]
    },
    {
      "cell_type": "markdown",
      "metadata": {
        "id": "ZIObjMO0Ikp5"
      },
      "source": [
        "##### Question 1.3.3.1: Implement multi-headed attention"
      ]
    },
    {
      "cell_type": "code",
      "execution_count": 24,
      "metadata": {
        "id": "6vb8NU_s6Vfg"
      },
      "outputs": [],
      "source": [
        "class MultiHeadAttention(nn.Module):\n",
        "    \"\"\" multiple heads of self-attention in parallel \"\"\"\n",
        "\n",
        "    def __init__(self, context_window_size, num_heads, head_size, embed_size=384):\n",
        "        \"\"\"\n",
        "        Args:\n",
        "            context_window_size: int, number of tokens considered in the past for attention (T)\n",
        "            num_heads: int, number of heads (H)\n",
        "            head_size: int, size of the head embedding dimension\n",
        "            embed_size: int, size of the token embedding dimension\n",
        "        \"\"\"\n",
        "        super().__init__()\n",
        "        # TODO, your code below\n",
        "        self.heads = nn.ModuleList([Head(head_size, context_window_size, embed_size) for _ in range(num_heads)])\n",
        "        self.num_heads = num_heads\n",
        "\n",
        "        # could also learn a map from the concatenated heads to the output space ?\n",
        "\n",
        "\n",
        "\n",
        "    def forward(self, x): # x is (B,T,D)\n",
        "        # TODO, your code below\n",
        "        heads = [head(x) for head in self.heads] # list of (B,T,D)\n",
        "        # approach 1\n",
        "        avg_embeddings = torch.stack(heads).sum(dim=0) # (B,T,D) - just sum across heads elementwise for each token\n",
        "        return avg_embeddings\n",
        "        # pass"
      ]
    },
    {
      "cell_type": "markdown",
      "metadata": {
        "id": "aFCBRay3IuR3"
      },
      "source": [
        "##### Question 1.3.3.2: Implement a multi-headed attention LM\n",
        "\n",
        "Fill in the code below to create a language model that outputs its logits for next token prediction using multi-headed attention. Train your model for `SMALL_ITERS` training iterations. Compare the results with the single-headed attention model. Do you see an improvement?\n",
        "\n",
        "We get to a train loss of around 2 after 1000 iterations, which takes around 1.5 minutes on a T4 GPU."
      ]
    },
    {
      "cell_type": "code",
      "execution_count": 25,
      "metadata": {
        "id": "LvWHwcCzI1yr"
      },
      "outputs": [],
      "source": [
        "class MultiHeadedAttentionLM(nn.Module):\n",
        "\n",
        "    def __init__(self, vocab_size, context_window_size, embed_size=384, num_heads=6):\n",
        "      super().__init__()\n",
        "      self.head_size = embed_size // num_heads\n",
        "      self.context_window_size = context_window_size\n",
        "      # TODO: your code below\n",
        "      self.token_embedding_table = nn.Embedding(vocab_size, embed_size) # X which we will pass to the head\n",
        "      self.position_embedding_table = nn.Embedding(context_window_size, embed_size)\n",
        "      self.atten_head = MultiHeadAttention(context_window_size, num_heads, self.head_size, embed_size)\n",
        "      self.lm_head = nn.Linear(embed_size, vocab_size)\n",
        "      self.vocab_size = vocab_size\n",
        "      self.embed_size = embed_size\n",
        "\n",
        "    def forward(self, token_ids, targets=None):\n",
        "        \"\"\"\n",
        "        Args:\n",
        "          token_ids: (B, T) token ids that make up the context (batch has size B, each entry in the\n",
        "                     batch has length T)\n",
        "          targets: (B, T) token ids corresponding to the target of each context in token_ids\n",
        "\n",
        "        Returns:\n",
        "          logits: (B, T, V), logits[b,t] gives the length V vector of logits for the next token\n",
        "                  prediction in string b up to t tokens\n",
        "          loss: scalar, negative log likelihood of target given context\n",
        "        \"\"\"\n",
        "        # TODO: your code below\n",
        "\n",
        "        B, T = token_ids.shape # (batch size, length)\n",
        "        tok_emb = self.token_embedding_table(token_ids) # (B,T,D)\n",
        "        pos_emb = self.position_embedding_table(torch.arange(T, device=device)) # (T,D)\n",
        "        x = tok_emb + pos_emb # (B,T,D)\n",
        "        x = self.atten_head(x) # (B,T,D)\n",
        "        logits = self.lm_head(x) # (B,T,V)\n",
        "        loss_fcn = torch.nn.CrossEntropyLoss()\n",
        "        loss = loss_fcn(logits.reshape(-1, self.vocab_size), targets.reshape(-1)) # as before\n",
        "\n",
        "        return logits, loss\n",
        "\n",
        "    @torch.no_grad()\n",
        "    def generate(self, token_ids, max_new_tokens):\n",
        "        \"\"\"\n",
        "        Args:\n",
        "          token_ids: (B, T) tensor of token ids to provide as context\n",
        "          max_new_tokens: int, maximum number of new tokens to generate\n",
        "\n",
        "        Returns:\n",
        "          (B, T+max_new_tokens) tensor of context with new tokens appended\n",
        "        \"\"\"\n",
        "        # TODO: your code below\n",
        "        pass"
      ]
    },
    {
      "cell_type": "code",
      "execution_count": 28,
      "metadata": {
        "id": "1GbGqwKWJzOK"
      },
      "outputs": [],
      "source": [
        "# run this cell to initialize this deep learning module that you should use in the code your write later\n",
        "# you don't need to edit this layer\n",
        "class FeedForward(nn.Module):\n",
        "    \"\"\" a simple linear layer followed by a non-linearity\n",
        "        Given to you, you don't need to write any code here!\n",
        "    \"\"\"\n",
        "\n",
        "    def __init__(self, embed_size):\n",
        "        super().__init__()\n",
        "        self.net = nn.Sequential(\n",
        "            nn.Linear(embed_size, 4 * embed_size),\n",
        "            nn.ReLU(),\n",
        "            nn.Linear(4 * embed_size, embed_size),\n",
        "        )\n",
        "\n",
        "    def forward(self, x):\n",
        "        return self.net(x)"
      ]
    },
    {
      "cell_type": "code",
      "execution_count": 29,
      "metadata": {
        "id": "hUDbIv9eISkf"
      },
      "outputs": [],
      "source": [
        "class TransformerBlock(nn.Module):\n",
        "    \"\"\" Transformer block: communication across sequence length, followed by communication across embedding space\n",
        "        Uses multi-headed attention\n",
        "    \"\"\"\n",
        "\n",
        "    def __init__(self, vocab_size, context_window_size, embed_size=384, num_heads=6):\n",
        "        super().__init__()\n",
        "        self.ln1 = nn.LayerNorm(embed_size)\n",
        "        self.ln2 = nn.LayerNorm(embed_size)\n",
        "\n",
        "        # TODO: your code below\n",
        "        self.feed_forward = FeedForward(embed_size) # acts along rows x_t^(m+1) = mlp(y_t^(m))\n",
        "        self.atten_heads = MultiHeadAttention(context_window_size, num_heads, embed_size//num_heads, embed_size) # as before\n",
        "        self.vocab_size = vocab_size\n",
        "        self.embed_size = embed_size\n",
        "\n",
        "\n",
        "    def forward(self, x):\n",
        "        x = x + self.atten_heads(self.ln1(x)) # communication over sequence length y_t^(m) = atten_heads(x_t^(m))\n",
        "        x = x + self.feed_forward(self.ln2(x)) # communication across embedding space x_t^(m+1) = mlp(y_t^(m))\n",
        "        return x"
      ]
    },
    {
      "cell_type": "code",
      "execution_count": 30,
      "metadata": {
        "id": "t2veTg9N3ufJ"
      },
      "outputs": [],
      "source": [
        "class TransformerLM(nn.Module):\n",
        "\n",
        "    def __init__(self, vocab_size, context_window_size, embed_size=384, num_heads=6, n_layers=6):\n",
        "        \"\"\"\n",
        "          Args:\n",
        "              vocab_size: int, number of tokens in the vocabulary (V)\n",
        "              context_window_size: int, size of the context window (T)\n",
        "              embed_size: int, embedding size (D)\n",
        "              num_heads: int, number of heads (H)\n",
        "              n_layers: int, number of layers (M)\n",
        "        \"\"\"\n",
        "        super().__init__()\n",
        "        self.token_embedding_table = nn.Embedding(vocab_size, embed_size)\n",
        "        self.position_embedding_table = nn.Embedding(context_window_size, embed_size)\n",
        "        self.blocks = nn.Sequential(*[\n",
        "            TransformerBlock(vocab_size,\n",
        "                             context_window_size,\n",
        "                             embed_size=embed_size,\n",
        "                             num_heads=num_heads)\n",
        "            for _ in range(n_layers)]) # chains output of one block to input of next. Output of self.blocks is x_t^M\n",
        "\n",
        "        # final layer norm\n",
        "        self.ln_f = nn.LayerNorm(embed_size)\n",
        "        self.lm_head = nn.Linear(embed_size, vocab_size)\n",
        "        self.vocab_size = vocab_size\n",
        "\n",
        "        # good initialization\n",
        "        self.apply(self._init_weights)\n",
        "\n",
        "    def _init_weights(self, module):\n",
        "        if isinstance(module, nn.Linear):\n",
        "            torch.nn.init.normal_(module.weight, mean=0.0, std=0.02)\n",
        "            if module.bias is not None:\n",
        "                torch.nn.init.zeros_(module.bias)\n",
        "        elif isinstance(module, nn.Embedding):\n",
        "            torch.nn.init.normal_(module.weight, mean=0.0, std=0.02)\n",
        "\n",
        "    def forward(self, token_ids, targets=None):\n",
        "        \"\"\"\n",
        "        Agrgs:\n",
        "            token_ids: tensor of integers, provides the contet, shape (B, T)\n",
        "            targets: tensor of integers, provides the tokens we are preidcitng, shape (B, T)\n",
        "        \"\"\"\n",
        "        B, T = token_ids.shape\n",
        "\n",
        "        # token_ids and targets are both (B, T) tensor of integers\n",
        "        tok_emb = self.token_embedding_table(token_ids) # (B, T, D)\n",
        "        pos_emb = self.position_embedding_table(torch.arange(T, device=device)) # (T, D)\n",
        "        x = tok_emb + pos_emb # (B, T, D)\n",
        "\n",
        "        # TODO: your code below\n",
        "        x = self.blocks(x) # instead of just x=self.attention_head(x), x is processed through a sequence of transformer blocks, each first processed by \"self attn\" then by mlp.\n",
        "        # this x is x_t^M in Scott's notes\n",
        "        x = self.ln_f(x)\n",
        "        logits = self.lm_head(x)\n",
        "        loss_fcn = torch.nn.CrossEntropyLoss()\n",
        "        loss = loss_fcn(logits.reshape(-1, self.vocab_size), targets.reshape(-1)) # as before\n",
        "\n",
        "\n",
        "        return logits, loss\n",
        "\n",
        "    @torch.no_grad()\n",
        "    def generate(self, token_ids, max_new_tokens):\n",
        "        \"\"\"\n",
        "        Args:\n",
        "            token_ids: tensor of integers forming the context, shape (B, T)\n",
        "            max_new_tokens: int, max number of tokens to generate\n",
        "\n",
        "        \"\"\"\n",
        "        # if token_ids.shape[0] ==1:\n",
        "        #     token_ids = token_ids.unsqueeze(0)\n",
        "        #     token_ids = token_ids.unsqueeze(0)\n",
        "\n",
        "        for i in range(max_new_tokens):\n",
        "            B, T = token_ids.shape # (batch size, length)\n",
        "            t = min(CONTEXT_WINDOW_SIZE,T)\n",
        "            tok_emb = self.token_embedding_table(token_ids[:,-t:]).reshape(B,t,-1) # (B,T,D)\n",
        "            pos_emb = self.position_embedding_table(torch.arange(t, device=device)) # (T,D)\n",
        "            x = tok_emb + pos_emb # (B,T,D)\n",
        "            x = self.blocks(x) # (B,T,D)\n",
        "            x= self.ln_f(x)\n",
        "            logits = self.lm_head(x) # (B,T,V)\n",
        "            # if len(logits.shape) == 2:\n",
        "            #     new_token = torch.argmax(logits[-1,:])\n",
        "            # else:\n",
        "            #     new_token = torch.argmax(logits[:,-1],dim=1)\n",
        "            # new_token = torch.argmax(logits[:,-1],dim=1) # best token for each batch\n",
        "            new_token = torch.distributions.Categorical(logits=logits[:,-1]).sample()\n",
        "            # token_ids = torch.cat([token_ids,new_token.unsqueeze(0)],dim=1)\n",
        "            token_ids = torch.cat([token_ids,new_token.unsqueeze(1)],dim=1)\n",
        "\n",
        "    # return decode(token_ids.tolist())\n",
        "        return token_ids\n",
        "        # pass"
      ]
    },
    {
      "cell_type": "markdown",
      "metadata": {
        "id": "JP8430nWKbZ6"
      },
      "source": [
        "Train your `TransformerLM` for `LARGE_ITERS` iterations and plot the loss curve. You may want to change the learning rate.\n",
        "\n",
        "We used a learning rate of `1e-4` and got to a final train loss of around 1.4 in around 15 minutes of training on a T4 GPU."
      ]
    },
    {
      "cell_type": "code",
      "execution_count": null,
      "metadata": {
        "id": "73du7-sWLH5c"
      },
      "outputs": [],
      "source": [
        "# conditional generation from the model\n",
        "\n",
        "context1 = \"\"\"ROMEO:\n",
        "He jests at scars that never felt a wound.\n",
        "But, soft! what light through yonder window breaks?\n",
        "It is the east, and Juliet is the sun.\n",
        "Arise, fair sun, and kill the envious moon,\n",
        "Who is already sick and pale with grief,\n",
        "That thou her maid art far more fair than she:\n",
        "Be not her maid, \"\"\"\n",
        "\n",
        "# context1_tokens = torch.tensor(encode(context1), device=device).reshape(1, -1)"
      ]
    },
    {
      "cell_type": "markdown",
      "metadata": {
        "id": "9Izr1wTOjzlo"
      },
      "source": [
        "## Part 2: Mini-Project"
      ]
    },
    {
      "cell_type": "markdown",
      "metadata": {
        "id": "5lF3jFrQj1f4"
      },
      "source": [
        "Quick recap: So far we have\n",
        "\n",
        "1. Preprocessed the Shakespeare dataset by encoding individual characters into integer tokens.\n",
        "2. Implemented single headed attention and then further generalized to multiheaded attention. We further combined multiheaded attention with deep learning to create the transformer architecture.\n",
        "3. Trained our transformer and generated output that looks to be in the style of Shakespeare.\n",
        "\n",
        "Up to this point, the performance of our simple language model has clearly made a lot of progress. We can see that our model has learned to generate text that is close to the style of Shakespeare, although there are still many quirks and room for improvement.\n",
        "\n",
        "### Project Outline\n",
        "\n",
        "Find some area of possible improvement.\n",
        "We interpret \"improvement\" quite loosely, but please state precisely why your proposed innovation might improve the model, and provide evidence that it does (or does not!) improve.\n",
        "For your idea, **formulate a hypothesis** for why this change should result in a better model. **Implement your changes** and **report any findings**.\n",
        "\n",
        "_Notes_: As this assignment is being treated as a project, you should expect training to take longer than previous assignments. However, please use your judgement to decide what is reasonable. We will not expect you to run training procedures that take more than 2 hours on the free Google Colab computing resources and we certainly do not expect you to acquire additional compute. The proposed improvements should not solely rely on increased computing demands.\n",
        "\n",
        "_Hints_: There are many aspects to assessing a model. For example, not only is quality of generated text important, it is also of interest to reduce costs associated with training.\n",
        "\n",
        "### Deliverables\n",
        "\n",
        "In addition to a pdf of your python notebook, the submission for this project will be a written report no more than 4 pages in length using the [NeurIPS LaTex template](https://neurips.cc/Conferences/2023/PaperInformation/StyleFiles). Your report should include detailed analysis of the hypotheses you chose to test along with any conclusions.\n",
        "\n",
        "The page limit for the report does not include bibliography or appendices. Make sure to keep the \"ready for submission\" option to help us grade anonymously. Your writeup should also contain a link to any code used to generate the project so that we can reference it while grading (Google Drive folder with colab notebooks or Github repo are both fine). You should have at least one plot in your main text (which is capped at 4 pages)."
      ]
    },
    {
      "cell_type": "markdown",
      "metadata": {
        "id": "_OfgjLjDc4lq"
      },
      "source": [
        "### TransformerLM_2 is has Dropout added to the output of the attention and mlp layers"
      ]
    },
    {
      "cell_type": "code",
      "execution_count": 32,
      "metadata": {
        "id": "Xu79GPJk8uXY"
      },
      "outputs": [],
      "source": [
        "class TransformerBlock_2(nn.Module):\n",
        "    \"\"\" Transformer block: communication across sequence length, followed by communication across embedding space\n",
        "        Uses multi-headed attention\n",
        "    \"\"\"\n",
        "\n",
        "    def __init__(self, vocab_size, context_window_size, embed_size=384, num_heads=6,dropout=0.1):\n",
        "        super().__init__()\n",
        "        self.ln1 = nn.LayerNorm(embed_size)\n",
        "        self.ln2 = nn.LayerNorm(embed_size)\n",
        "\n",
        "        # TODO: your code below\n",
        "        self.feed_forward = FeedForward(embed_size) # acts along rows x_t^(m+1) = mlp(y_t^(m))\n",
        "        self.atten_heads = MultiHeadAttention(context_window_size, num_heads, embed_size//num_heads, embed_size) # as before\n",
        "        self.vocab_size = vocab_size\n",
        "        self.embed_size = embed_size\n",
        "\n",
        "        # for dropout\n",
        "\n",
        "        self.dropout = nn.Dropout(dropout) # takes a dropout rate arg\n",
        "\n",
        "\n",
        "\n",
        "    def forward(self, x):\n",
        "        x = x + self.atten_heads(self.ln1(x)) # communication over sequence length y_t^(m) = atten_heads(x_t^(m))\n",
        "        x = x + self.feed_forward(self.ln2(x)) # communication across embedding space x_t^(m+1) = mlp(y_t^(m))\n",
        "\n",
        "\n",
        "\n",
        "        # for adding dropout\n",
        "        # x = x + self.dropout(self.atten_heads(self.ln1(x))) # communication over sequence length y_t^(m) = atten_heads(x_t^(m))\n",
        "        # x = x + self.dropout(self.feed_forward(self.ln2(x))) # communication across embedding space x_t^(m+1) = mlp(y_t^(m))\n",
        "        return x"
      ]
    },
    {
      "cell_type": "code",
      "execution_count": 33,
      "metadata": {
        "id": "mKD_4-8K8rgw"
      },
      "outputs": [],
      "source": [
        "class TransformerLM_2(nn.Module):\n",
        "\n",
        "    def __init__(self, vocab_size, context_window_size, embed_size=384, num_heads=6, n_layers=6):\n",
        "        \"\"\"\n",
        "          Args:\n",
        "              vocab_size: int, number of tokens in the vocabulary (V)\n",
        "              context_window_size: int, size of the context window (T)\n",
        "              embed_size: int, embedding size (D)\n",
        "              num_heads: int, number of heads (H)\n",
        "              n_layers: int, number of layers (M)\n",
        "        \"\"\"\n",
        "        super().__init__()\n",
        "        self.token_embedding_table = nn.Embedding(vocab_size, embed_size)\n",
        "        self.position_embedding_table = nn.Embedding(context_window_size, embed_size)\n",
        "        self.blocks = nn.Sequential(*[\n",
        "            TransformerBlock_2(vocab_size,\n",
        "                             context_window_size,\n",
        "                             embed_size=embed_size,\n",
        "                             num_heads=num_heads)\n",
        "            for _ in range(n_layers)]) # chains output of one block to input of next. Output of self.blocks is x_t^M\n",
        "\n",
        "        # final layer norm\n",
        "        self.ln_f = nn.LayerNorm(embed_size)\n",
        "        self.lm_head = nn.Linear(embed_size, vocab_size)\n",
        "        self.vocab_size = vocab_size\n",
        "\n",
        "        # good initialization\n",
        "        self.apply(self._init_weights)\n",
        "\n",
        "    def _init_weights(self, module):\n",
        "        if isinstance(module, nn.Linear):\n",
        "            torch.nn.init.normal_(module.weight, mean=0.0, std=0.02)\n",
        "            if module.bias is not None:\n",
        "                torch.nn.init.zeros_(module.bias)\n",
        "        elif isinstance(module, nn.Embedding):\n",
        "            torch.nn.init.normal_(module.weight, mean=0.0, std=0.02)\n",
        "\n",
        "    def forward(self, token_ids, targets=None):\n",
        "        \"\"\"\n",
        "        Agrgs:\n",
        "            token_ids: tensor of integers, provides the contet, shape (B, T)\n",
        "            targets: tensor of integers, provides the tokens we are preidcitng, shape (B, T)\n",
        "        \"\"\"\n",
        "        B, T = token_ids.shape\n",
        "\n",
        "        # token_ids and targets are both (B, T) tensor of integers\n",
        "        tok_emb = self.token_embedding_table(token_ids) # (B, T, D)\n",
        "        pos_emb = self.position_embedding_table(torch.arange(T, device=device)) # (T, D)\n",
        "        x = tok_emb + pos_emb # (B, T, D)\n",
        "\n",
        "        # TODO: your code below\n",
        "        x = self.blocks(x) # instead of just x=self.attention_head(x), x is processed through a sequence of transformer blocks, each first processed by \"self attn\" then by mlp.\n",
        "        # this x is x_t^M in Scott's notes\n",
        "        x = self.ln_f(x)\n",
        "        logits = self.lm_head(x)\n",
        "        loss_fcn = torch.nn.CrossEntropyLoss()\n",
        "        loss = loss_fcn(logits.reshape(-1, self.vocab_size), targets.reshape(-1)) # as before\n",
        "\n",
        "\n",
        "        return logits, loss\n",
        "\n",
        "    @torch.no_grad()\n",
        "    def generate(self, token_ids, max_new_tokens):\n",
        "        \"\"\"\n",
        "        Args:\n",
        "            token_ids: tensor of integers forming the context, shape (B, T)\n",
        "            max_new_tokens: int, max number of tokens to generate\n",
        "\n",
        "        \"\"\"\n",
        "        # if token_ids.shape[0] ==1:\n",
        "        #     token_ids = token_ids.unsqueeze(0)\n",
        "        #     token_ids = token_ids.unsqueeze(0)\n",
        "\n",
        "        for i in range(max_new_tokens):\n",
        "            B, T = token_ids.shape # (batch size, length)\n",
        "            t = min(CONTEXT_WINDOW_SIZE,T)\n",
        "            tok_emb = self.token_embedding_table(token_ids[:,-t:]).reshape(B,t,-1) # (B,T,D)\n",
        "            pos_emb = self.position_embedding_table(torch.arange(t, device=device)) # (T,D)\n",
        "            x = tok_emb + pos_emb # (B,T,D)\n",
        "            x = self.blocks(x) # (B,T,D)\n",
        "            x= self.ln_f(x)\n",
        "            logits = self.lm_head(x) # (B,T,V)\n",
        "            # if len(logits.shape) == 2:\n",
        "            #     new_token = torch.argmax(logits[-1,:])\n",
        "            # else:\n",
        "            #     new_token = torch.argmax(logits[:,-1],dim=1)\n",
        "            # new_token = torch.argmax(logits[:,-1],dim=1) # best token for each batch\n",
        "            new_token = torch.distributions.Categorical(logits=logits[:,-1]).sample()\n",
        "            # token_ids = torch.cat([token_ids,new_token.unsqueeze(0)],dim=1)\n",
        "            token_ids = torch.cat([token_ids,new_token.unsqueeze(1)],dim=1)\n",
        "\n",
        "    # return decode(token_ids.tolist())\n",
        "        return token_ids\n",
        "        # pass"
      ]
    },
    {
      "cell_type": "code",
      "execution_count": 34,
      "metadata": {
        "colab": {
          "base_uri": "https://localhost:8080/"
        },
        "id": "Hy_A0NbZ8yPi",
        "outputId": "6e3e578a-d1d2-408a-ce62-3e71665710a7"
      },
      "outputs": [
        {
          "output_type": "stream",
          "name": "stderr",
          "text": [
            "<ipython-input-34-125e4dcc4c7a>:4: FutureWarning: `torch.cuda.amp.GradScaler(args...)` is deprecated. Please use `torch.amp.GradScaler('cuda', args...)` instead.\n",
            "  scaler = GradScaler()\n",
            "  0%|          | 0/4000 [00:00<?, ?it/s]"
          ]
        },
        {
          "output_type": "stream",
          "name": "stdout",
          "text": [
            "iteration 0 batch size 32\n",
            "step 0: train loss 4.3019, val loss 4.2964\n"
          ]
        },
        {
          "output_type": "stream",
          "name": "stderr",
          "text": [
            "<ipython-input-34-125e4dcc4c7a>:44: FutureWarning: `torch.cuda.amp.autocast(args...)` is deprecated. Please use `torch.amp.autocast('cuda', args...)` instead.\n",
            "  with autocast():\n",
            "  5%|▌         | 200/4000 [00:55<08:42,  7.28it/s]"
          ]
        },
        {
          "output_type": "stream",
          "name": "stdout",
          "text": [
            "iteration 200 batch size 32\n"
          ]
        },
        {
          "output_type": "stream",
          "name": "stderr",
          "text": [
            "\r  5%|▌         | 201/4000 [01:18<7:33:01,  7.15s/it]"
          ]
        },
        {
          "output_type": "stream",
          "name": "stdout",
          "text": [
            "step 200: train loss 2.5138, val loss 2.5184\n"
          ]
        },
        {
          "output_type": "stream",
          "name": "stderr",
          "text": [
            " 10%|█         | 400/4000 [01:47<08:24,  7.13it/s]"
          ]
        },
        {
          "output_type": "stream",
          "name": "stdout",
          "text": [
            "iteration 400 batch size 32\n"
          ]
        },
        {
          "output_type": "stream",
          "name": "stderr",
          "text": [
            "\r 10%|█         | 401/4000 [02:11<7:33:21,  7.56s/it]"
          ]
        },
        {
          "output_type": "stream",
          "name": "stdout",
          "text": [
            "step 400: train loss 2.3536, val loss 2.3647\n"
          ]
        },
        {
          "output_type": "stream",
          "name": "stderr",
          "text": [
            " 15%|█▌        | 600/4000 [02:39<07:48,  7.26it/s]"
          ]
        },
        {
          "output_type": "stream",
          "name": "stdout",
          "text": [
            "iteration 600 batch size 32\n"
          ]
        },
        {
          "output_type": "stream",
          "name": "stderr",
          "text": [
            "\r 15%|█▌        | 601/4000 [03:03<6:58:55,  7.39s/it]"
          ]
        },
        {
          "output_type": "stream",
          "name": "stdout",
          "text": [
            "step 600: train loss 2.0914, val loss 2.1333\n"
          ]
        },
        {
          "output_type": "stream",
          "name": "stderr",
          "text": [
            " 20%|██        | 800/4000 [03:31<07:24,  7.21it/s]"
          ]
        },
        {
          "output_type": "stream",
          "name": "stdout",
          "text": [
            "iteration 800 batch size 32\n"
          ]
        },
        {
          "output_type": "stream",
          "name": "stderr",
          "text": [
            "\r 20%|██        | 801/4000 [03:56<6:35:07,  7.41s/it]"
          ]
        },
        {
          "output_type": "stream",
          "name": "stdout",
          "text": [
            "step 800: train loss 1.8992, val loss 1.9926\n"
          ]
        },
        {
          "output_type": "stream",
          "name": "stderr",
          "text": [
            " 25%|██▌       | 1000/4000 [04:23<06:53,  7.25it/s]"
          ]
        },
        {
          "output_type": "stream",
          "name": "stdout",
          "text": [
            "iteration 1000 batch size 32\n"
          ]
        },
        {
          "output_type": "stream",
          "name": "stderr",
          "text": [
            "\r 25%|██▌       | 1001/4000 [04:48<6:10:16,  7.41s/it]"
          ]
        },
        {
          "output_type": "stream",
          "name": "stdout",
          "text": [
            "step 1000: train loss 1.7693, val loss 1.9050\n"
          ]
        },
        {
          "output_type": "stream",
          "name": "stderr",
          "text": [
            " 30%|███       | 1200/4000 [05:15<06:26,  7.24it/s]"
          ]
        },
        {
          "output_type": "stream",
          "name": "stdout",
          "text": [
            "iteration 1200 batch size 32\n"
          ]
        },
        {
          "output_type": "stream",
          "name": "stderr",
          "text": [
            "\r 30%|███       | 1201/4000 [05:40<5:45:24,  7.40s/it]"
          ]
        },
        {
          "output_type": "stream",
          "name": "stdout",
          "text": [
            "step 1200: train loss 1.6759, val loss 1.8464\n"
          ]
        },
        {
          "output_type": "stream",
          "name": "stderr",
          "text": [
            " 35%|███▌      | 1400/4000 [06:07<06:05,  7.11it/s]"
          ]
        },
        {
          "output_type": "stream",
          "name": "stdout",
          "text": [
            "iteration 1400 batch size 32\n"
          ]
        },
        {
          "output_type": "stream",
          "name": "stderr",
          "text": [
            "\r 35%|███▌      | 1401/4000 [06:32<5:20:47,  7.41s/it]"
          ]
        },
        {
          "output_type": "stream",
          "name": "stdout",
          "text": [
            "step 1400: train loss 1.6156, val loss 1.7857\n"
          ]
        },
        {
          "output_type": "stream",
          "name": "stderr",
          "text": [
            " 40%|████      | 1600/4000 [06:59<05:30,  7.25it/s]"
          ]
        },
        {
          "output_type": "stream",
          "name": "stdout",
          "text": [
            "iteration 1600 batch size 32\n"
          ]
        },
        {
          "output_type": "stream",
          "name": "stderr",
          "text": [
            "\r 40%|████      | 1601/4000 [07:24<4:56:14,  7.41s/it]"
          ]
        },
        {
          "output_type": "stream",
          "name": "stdout",
          "text": [
            "step 1600: train loss 1.5562, val loss 1.7306\n"
          ]
        },
        {
          "output_type": "stream",
          "name": "stderr",
          "text": [
            " 45%|████▌     | 1800/4000 [07:51<05:04,  7.23it/s]"
          ]
        },
        {
          "output_type": "stream",
          "name": "stdout",
          "text": [
            "iteration 1800 batch size 32\n"
          ]
        },
        {
          "output_type": "stream",
          "name": "stderr",
          "text": [
            "\r 45%|████▌     | 1801/4000 [08:16<4:31:28,  7.41s/it]"
          ]
        },
        {
          "output_type": "stream",
          "name": "stdout",
          "text": [
            "step 1800: train loss 1.5173, val loss 1.7000\n"
          ]
        },
        {
          "output_type": "stream",
          "name": "stderr",
          "text": [
            " 50%|█████     | 2000/4000 [08:43<04:41,  7.11it/s]"
          ]
        },
        {
          "output_type": "stream",
          "name": "stdout",
          "text": [
            "iteration 2000 batch size 32\n"
          ]
        },
        {
          "output_type": "stream",
          "name": "stderr",
          "text": [
            "\r 50%|█████     | 2001/4000 [09:08<4:06:54,  7.41s/it]"
          ]
        },
        {
          "output_type": "stream",
          "name": "stdout",
          "text": [
            "step 2000: train loss 1.4725, val loss 1.6705\n"
          ]
        },
        {
          "output_type": "stream",
          "name": "stderr",
          "text": [
            " 55%|█████▌    | 2200/4000 [09:35<04:08,  7.23it/s]"
          ]
        },
        {
          "output_type": "stream",
          "name": "stdout",
          "text": [
            "iteration 2200 batch size 32\n"
          ]
        },
        {
          "output_type": "stream",
          "name": "stderr",
          "text": [
            "\r 55%|█████▌    | 2201/4000 [10:00<3:42:03,  7.41s/it]"
          ]
        },
        {
          "output_type": "stream",
          "name": "stdout",
          "text": [
            "step 2200: train loss 1.4500, val loss 1.6604\n"
          ]
        },
        {
          "output_type": "stream",
          "name": "stderr",
          "text": [
            " 60%|██████    | 2400/4000 [10:27<03:40,  7.27it/s]"
          ]
        },
        {
          "output_type": "stream",
          "name": "stdout",
          "text": [
            "iteration 2400 batch size 32\n"
          ]
        },
        {
          "output_type": "stream",
          "name": "stderr",
          "text": [
            "\r 60%|██████    | 2401/4000 [10:52<3:17:28,  7.41s/it]"
          ]
        },
        {
          "output_type": "stream",
          "name": "stdout",
          "text": [
            "step 2400: train loss 1.4172, val loss 1.6371\n"
          ]
        },
        {
          "output_type": "stream",
          "name": "stderr",
          "text": [
            " 65%|██████▌   | 2600/4000 [11:19<03:14,  7.19it/s]"
          ]
        },
        {
          "output_type": "stream",
          "name": "stdout",
          "text": [
            "iteration 2600 batch size 32\n"
          ]
        },
        {
          "output_type": "stream",
          "name": "stderr",
          "text": [
            "\r 65%|██████▌   | 2601/4000 [11:44<2:52:53,  7.41s/it]"
          ]
        },
        {
          "output_type": "stream",
          "name": "stdout",
          "text": [
            "step 2600: train loss 1.3916, val loss 1.6149\n"
          ]
        },
        {
          "output_type": "stream",
          "name": "stderr",
          "text": [
            " 70%|███████   | 2800/4000 [12:11<02:50,  7.04it/s]"
          ]
        },
        {
          "output_type": "stream",
          "name": "stdout",
          "text": [
            "iteration 2800 batch size 32\n"
          ]
        },
        {
          "output_type": "stream",
          "name": "stderr",
          "text": [
            "\r 70%|███████   | 2801/4000 [12:36<2:28:07,  7.41s/it]"
          ]
        },
        {
          "output_type": "stream",
          "name": "stdout",
          "text": [
            "step 2800: train loss 1.3705, val loss 1.6068\n"
          ]
        },
        {
          "output_type": "stream",
          "name": "stderr",
          "text": [
            " 75%|███████▌  | 3000/4000 [13:03<02:17,  7.27it/s]"
          ]
        },
        {
          "output_type": "stream",
          "name": "stdout",
          "text": [
            "iteration 3000 batch size 32\n"
          ]
        },
        {
          "output_type": "stream",
          "name": "stderr",
          "text": [
            "\r 75%|███████▌  | 3001/4000 [13:28<2:03:20,  7.41s/it]"
          ]
        },
        {
          "output_type": "stream",
          "name": "stdout",
          "text": [
            "step 3000: train loss 1.3548, val loss 1.5872\n"
          ]
        },
        {
          "output_type": "stream",
          "name": "stderr",
          "text": [
            " 80%|████████  | 3200/4000 [13:55<01:50,  7.25it/s]"
          ]
        },
        {
          "output_type": "stream",
          "name": "stdout",
          "text": [
            "iteration 3200 batch size 32\n"
          ]
        },
        {
          "output_type": "stream",
          "name": "stderr",
          "text": [
            "\r 80%|████████  | 3201/4000 [14:20<1:38:39,  7.41s/it]"
          ]
        },
        {
          "output_type": "stream",
          "name": "stdout",
          "text": [
            "step 3200: train loss 1.3345, val loss 1.5939\n"
          ]
        },
        {
          "output_type": "stream",
          "name": "stderr",
          "text": [
            " 85%|████████▌ | 3400/4000 [14:47<01:25,  7.04it/s]"
          ]
        },
        {
          "output_type": "stream",
          "name": "stdout",
          "text": [
            "iteration 3400 batch size 32\n"
          ]
        },
        {
          "output_type": "stream",
          "name": "stderr",
          "text": [
            "\r 85%|████████▌ | 3401/4000 [15:12<1:14:01,  7.41s/it]"
          ]
        },
        {
          "output_type": "stream",
          "name": "stdout",
          "text": [
            "step 3400: train loss 1.3241, val loss 1.5827\n"
          ]
        },
        {
          "output_type": "stream",
          "name": "stderr",
          "text": [
            " 90%|█████████ | 3600/4000 [15:39<00:55,  7.25it/s]"
          ]
        },
        {
          "output_type": "stream",
          "name": "stdout",
          "text": [
            "iteration 3600 batch size 32\n"
          ]
        },
        {
          "output_type": "stream",
          "name": "stderr",
          "text": [
            "\r 90%|█████████ | 3601/4000 [16:04<49:16,  7.41s/it]"
          ]
        },
        {
          "output_type": "stream",
          "name": "stdout",
          "text": [
            "step 3600: train loss 1.3052, val loss 1.5845\n"
          ]
        },
        {
          "output_type": "stream",
          "name": "stderr",
          "text": [
            " 95%|█████████▌| 3800/4000 [16:31<00:27,  7.25it/s]"
          ]
        },
        {
          "output_type": "stream",
          "name": "stdout",
          "text": [
            "iteration 3800 batch size 32\n"
          ]
        },
        {
          "output_type": "stream",
          "name": "stderr",
          "text": [
            "\r 95%|█████████▌| 3801/4000 [16:56<24:34,  7.41s/it]"
          ]
        },
        {
          "output_type": "stream",
          "name": "stdout",
          "text": [
            "step 3800: train loss 1.2890, val loss 1.5737\n"
          ]
        },
        {
          "output_type": "stream",
          "name": "stderr",
          "text": [
            "100%|█████████▉| 3999/4000 [17:23<00:00,  7.24it/s]"
          ]
        },
        {
          "output_type": "stream",
          "name": "stdout",
          "text": [
            "iteration 3999 batch size 32\n"
          ]
        },
        {
          "output_type": "stream",
          "name": "stderr",
          "text": [
            "100%|██████████| 4000/4000 [17:47<00:00,  3.75it/s]"
          ]
        },
        {
          "output_type": "stream",
          "name": "stdout",
          "text": [
            "step 3999: train loss 1.2752, val loss 1.5648\n"
          ]
        },
        {
          "output_type": "stream",
          "name": "stderr",
          "text": [
            "\n"
          ]
        }
      ],
      "source": [
        "LARGE_ITERS = 4000\n",
        "\n",
        "from torch.cuda.amp import autocast, GradScaler\n",
        "scaler = GradScaler()\n",
        "\n",
        "trans = TransformerLM_2(vocab_size, CONTEXT_WINDOW_SIZE)\n",
        "tlm = trans.to(device)\n",
        "learning_rate = 1e-4\n",
        "# TODO, your code below\n",
        "\n",
        "from torch.optim.lr_scheduler import CosineAnnealingLR\n",
        "torch.manual_seed(760)\n",
        "\n",
        "optimizer = torch.optim.AdamW(trans.parameters(), lr=learning_rate)\n",
        "# scheduler = CosineAnnealingLR(optimizer, T_max=LARGE_ITERS, eta_min=1e-6)\n",
        "\n",
        "eval_interval = 200\n",
        "\n",
        "# batch params\n",
        "batch_start = 16\n",
        "batch_max = 128\n",
        "batch_growth = LARGE_ITERS//4\n",
        "\n",
        "\n",
        "loss_list = []\n",
        "\n",
        "for it in tqdm(range(LARGE_ITERS)):\n",
        "    #update the batch size\n",
        "    # batch_size = min(batch_start *(2**(it // batch_growth)), batch_max)\n",
        "    batch_size = 32\n",
        "\n",
        "\n",
        "    # every once in a while evaluate the loss on train and val sets\n",
        "    if it % eval_interval == 0 or it == LARGE_ITERS - 1:\n",
        "        print(f\"iteration {it}\", f\"batch size {batch_size}\")\n",
        "        losses = estimate_loss(tlm, EVAL_ITERS, CONTEXT_WINDOW_SIZE, device)\n",
        "        print(f\"step {it}: train loss {losses['train']:.4f}, val loss {losses['val']:.4f}\")\n",
        "\n",
        "    # sample a batch of data\n",
        "    xb, yb = get_batch('train', CONTEXT_WINDOW_SIZE, device, batch_size=batch_size)\n",
        "    optimizer.zero_grad(set_to_none=True)\n",
        "\n",
        "    # evaluate the loss\n",
        "    with autocast():\n",
        "      logits, loss = tlm(xb, yb)\n",
        "    # logits, loss = tlm(xb, yb)\n",
        "    scaler.scale(loss).backward()\n",
        "\n",
        "    # Gradient clipping (optional for stability)\n",
        "    # torch.nn.utils.clip_grad_norm_(tlm.parameters(), 1)\n",
        "    loss_list.append(loss.detach().item())\n",
        "\n",
        "    # Step optimizer and scheduler with scaler\n",
        "    scaler.step(optimizer)\n",
        "    scaler.update()\n",
        "    # scheduler.step()\n"
      ]
    },
    {
      "cell_type": "code",
      "execution_count": 35,
      "metadata": {
        "colab": {
          "base_uri": "https://localhost:8080/",
          "height": 489
        },
        "id": "rpYbPciURnrc",
        "outputId": "f1fb441c-82f5-4485-bf2d-c8e3ef694bd4"
      },
      "outputs": [
        {
          "output_type": "execute_result",
          "data": {
            "text/plain": [
              "Text(0, 0.5, 'Loss')"
            ]
          },
          "metadata": {},
          "execution_count": 35
        },
        {
          "output_type": "display_data",
          "data": {
            "text/plain": [
              "<Figure size 640x480 with 1 Axes>"
            ],
            "image/png": "[encoded data removed]"
          },
          "metadata": {}
        }
      ],
      "source": [
        "import seaborn as sns\n",
        "sns.lineplot(x=range(LARGE_ITERS), y=loss_list)\n",
        "plt.title(\"Loss in training, 6 Transformer Blocks\")\n",
        "plt.xlabel(\"Iterations\")\n",
        "plt.ylabel(\"Loss\")"
      ]
    },
    {
      "cell_type": "markdown",
      "metadata": {
        "id": "VnLwPMbrc4lq"
      },
      "source": [
        "### Here I implement the variable attention model, per the meta paper"
      ]
    },
    {
      "cell_type": "code",
      "execution_count": 36,
      "metadata": {
        "id": "xTzrnY4-RlfU"
      },
      "outputs": [],
      "source": [
        "class MaskedHead(nn.Module):\n",
        "    \"\"\" one head of self-attention \"\"\"\n",
        "\n",
        "    def __init__(self, head_size, context_window_size, embed_size=384):\n",
        "        \"\"\"\n",
        "        Args:\n",
        "          head_size: int, size of the head embedding dimension (K)\n",
        "          context_window_size: int, number of tokens considered in the past for attention (T)\n",
        "          embed_size: int, size of the token embedding dimension (D)\n",
        "        \"\"\"\n",
        "        super().__init__()\n",
        "        self.head_size = head_size\n",
        "        self.key = nn.Linear(embed_size, head_size, bias=False)\n",
        "        self.query = nn.Linear(embed_size, head_size, bias=False)\n",
        "        self.value = nn.Linear(embed_size, embed_size, bias=False)\n",
        "        self.z = nn.Parameter(torch.randn(1)) # learnable parameter controlling attention span\n",
        "        # I also tried making this a learnable parameter but seems the best strat is to fix at 10 as in the paper\n",
        "        self.R = 10\n",
        "        # self.R = nn.Parameter(torch.tensor(10.0))\n",
        "        # also played with l1 regularization but decided not to include for simplicity\n",
        "        self.lambda_reg = 0#1e-20\n",
        "        self.cached_mask = None\n",
        "        self.cached_T = None\n",
        "        # not a param of the model, so registered as a buffer\n",
        "        self.register_buffer('tril', torch.tril(\n",
        "            torch.ones(context_window_size, context_window_size))) # lower diagonal matrix\n",
        "\n",
        "\n",
        "\n",
        "    def compute_masking_matrix(self, z, R, T):\n",
        "        # so that we don't recompute everytime\n",
        "        if self.cached_mask is not None and self.cached_T == T and torch.allclose(self.cached_z, z):\n",
        "            return self.cached_mask\n",
        "\n",
        "        positions = torch.arange(T, device=z.device)\n",
        "        distance_matrix = positions.unsqueeze(1) - positions.unsqueeze(0)\n",
        "        distance_matrix = distance_matrix.abs()\n",
        "\n",
        "        # as given in the meta paper\n",
        "        mask = (1 / R) * (R + z - distance_matrix)\n",
        "        mask = torch.clamp(mask, min=0, max=1)\n",
        "\n",
        "        self.cached_mask = mask\n",
        "        self.cached_T = T\n",
        "        self.cached_z = z.detach().clone()\n",
        "\n",
        "        return mask  # Shape: (T, T)\n",
        "\n",
        "    def masked_attention(self, attn_scores):\n",
        "        B, T, _ = attn_scores.shape\n",
        "        mask = self.compute_masking_matrix(self.z, self.R, T).unsqueeze(0)\n",
        "        log_mask = torch.log(mask.clamp(min=1e-10))\n",
        "        masked_scores = attn_scores + log_mask #instead of multiplying just add the log before softmax\n",
        "        attn_probs = torch.softmax(masked_scores, dim=-1)\n",
        "\n",
        "        return attn_probs\n",
        "\n",
        "\n",
        "    def forward(self, x):\n",
        "        \"\"\"\n",
        "        Args:\n",
        "          x: (B,T,D) tensor of token embeddings\n",
        "\n",
        "        Returns:\n",
        "          (B,T,D) tensor of attention-weighted token embeddings\n",
        "        \"\"\"\n",
        "\n",
        "        attn_weights = self.query(x) @ self.key(x).transpose(-2,-1) # (B,T,T)\n",
        "        attn_weights = attn_weights.masked_fill((self.tril==0)[0:attn_weights.shape[1],0:attn_weights.shape[2]], float('-inf')) # (B,T,T)\n",
        "        masked_attn_weights = self.masked_attention(attn_weights)\n",
        "        avg_embeddings = torch.einsum('bij,bjd->bid', masked_attn_weights, self.value(x))\n",
        "        l1_penalty = self.lambda_reg * self.z.abs().sum()\n",
        "\n",
        "        return avg_embeddings,l1_penalty\n",
        "\n",
        "\n",
        "class MultiHeadAttention_Masked(nn.Module):\n",
        "    \"\"\" multiple heads of self-attention in parallel \"\"\"\n",
        "\n",
        "    def __init__(self, context_window_size, num_heads, head_size, embed_size=384):\n",
        "        \"\"\"\n",
        "        Args:\n",
        "            context_window_size: int, number of tokens considered in the past for attention (T)\n",
        "            num_heads: int, number of heads (H)\n",
        "            head_size: int, size of the head embedding dimension\n",
        "            embed_size: int, size of the token embedding dimension\n",
        "        \"\"\"\n",
        "        super().__init__()\n",
        "        # TODO, your code below\n",
        "        # had to change to module list to play nice with l1 penalty\n",
        "        self.heads = nn.ModuleList([MaskedHead(head_size, context_window_size, embed_size) for _ in range(num_heads)])\n",
        "        self.num_heads = num_heads\n",
        "\n",
        "\n",
        "    def forward(self, x): # x is (B,T,D)\n",
        "        # TODO, your code below\n",
        "        heads = [head(x) for head in self.heads] # list of (B,T,D)\n",
        "        avg_embeddings = torch.stack([h[0] for h in heads]).sum(dim=0) # (B,T,D) - just sum across heads elementwise for each token\n",
        "        total_l1_penalty = sum(h[1] for h in heads) / self.num_heads  # Average L1 across heads\n",
        "        return avg_embeddings, total_l1_penalty\n",
        "        # pass\n",
        "class TransformerBlock_VarAttn(nn.Module):\n",
        "    \"\"\" Transformer block: communication across sequence length, followed by communication across embedding space\n",
        "        Uses multi-headed attention\n",
        "    \"\"\"\n",
        "\n",
        "    def __init__(self, vocab_size, context_window_size, embed_size=384, num_heads=6,dropout=0.1):\n",
        "        super().__init__()\n",
        "        self.ln1 = nn.LayerNorm(embed_size)\n",
        "        self.ln2 = nn.LayerNorm(embed_size)\n",
        "\n",
        "        # TODO: your code below\n",
        "        self.feed_forward = FeedForward(embed_size) # acts along rows x_t^(m+1) = mlp(y_t^(m))\n",
        "        self.atten_heads = MultiHeadAttention_Masked(context_window_size, num_heads, embed_size//num_heads, embed_size) # as before\n",
        "        self.vocab_size = vocab_size\n",
        "        self.embed_size = embed_size\n",
        "\n",
        "        # for dropout\n",
        "        self.dropout = nn.Dropout(dropout) # takes a dropout rate arg\n",
        "\n",
        "    def forward(self, x):\n",
        "        attn_output, l1_penalty = self.atten_heads(self.ln1(x))\n",
        "        x = x + self.dropout(attn_output)\n",
        "        x = x + self.dropout(self.feed_forward(self.ln2(x)))\n",
        "        return x, l1_penalty\n",
        "\n",
        "class TransformerLM_VarAttn(nn.Module):\n",
        "    def __init__(self, vocab_size, context_window_size, embed_size=384, num_heads=6, n_layers=6):\n",
        "        \"\"\"\n",
        "          Args:\n",
        "              vocab_size: int, number of tokens in the vocabulary (V)\n",
        "              context_window_size: int, size of the context window (T)\n",
        "              embed_size: int, embedding size (D)\n",
        "              num_heads: int, number of heads (H)\n",
        "              n_layers: int, number of layers (M)\n",
        "        \"\"\"\n",
        "        super().__init__()\n",
        "        self.token_embedding_table = nn.Embedding(vocab_size, embed_size)\n",
        "        self.position_embedding_table = nn.Embedding(context_window_size, embed_size)\n",
        "        # module list again bc l1_penalty\n",
        "        self.blocks = nn.ModuleList([\n",
        "            TransformerBlock_VarAttn(vocab_size, context_window_size, embed_size=embed_size, num_heads=num_heads)\n",
        "            for _ in range(n_layers)\n",
        "        ])\n",
        "        self.ln_f = nn.LayerNorm(embed_size)\n",
        "        self.lm_head = nn.Linear(embed_size, vocab_size)\n",
        "        self.vocab_size = vocab_size\n",
        "\n",
        "        # Good initialization\n",
        "        self.apply(self._init_weights)\n",
        "\n",
        "    def _init_weights(self, module):\n",
        "        if isinstance(module, nn.Linear):\n",
        "            torch.nn.init.normal_(module.weight, mean=0.0, std=0.02)\n",
        "            if module.bias is not None:\n",
        "                torch.nn.init.zeros_(module.bias)\n",
        "        elif isinstance(module, nn.Embedding):\n",
        "            torch.nn.init.normal_(module.weight, mean=0.0, std=0.02)\n",
        "\n",
        "    def forward(self, token_ids, targets=None):\n",
        "        \"\"\"\n",
        "        Args:\n",
        "            token_ids: (B, T) tensor of integers, provides the context\n",
        "            targets: (B, T) tensor of integers, provides the tokens we are predicting\n",
        "        \"\"\"\n",
        "        B, T = token_ids.shape\n",
        "        tok_emb = self.token_embedding_table(token_ids)  # (B, T, D)\n",
        "        pos_emb = self.position_embedding_table(torch.arange(T, device=token_ids.device))  # (T, D)\n",
        "        x = tok_emb + pos_emb  # (B, T, D)\n",
        "\n",
        "        total_l1_penalty = 0\n",
        "        # does the sequential processing manually since using module list instead of sequential\n",
        "        for block in self.blocks:\n",
        "            x, l1_penalty = block(x)\n",
        "            total_l1_penalty += l1_penalty\n",
        "\n",
        "        x = self.ln_f(x)\n",
        "        logits = self.lm_head(x)\n",
        "        loss_fcn = torch.nn.CrossEntropyLoss()\n",
        "        loss = loss_fcn(logits.reshape(-1, self.vocab_size), targets.reshape(-1)) + total_l1_penalty\n",
        "\n",
        "        return logits, loss\n",
        "\n",
        "    @torch.no_grad()\n",
        "    def generate(self, token_ids, max_new_tokens):\n",
        "        \"\"\"\n",
        "        Args:\n",
        "            token_ids: (B, T) tensor of integers forming the context.\n",
        "            max_new_tokens: int, max number of tokens to generate.\n",
        "        \"\"\"\n",
        "        for i in range(max_new_tokens):\n",
        "            B, T = token_ids.shape  # (B, T)\n",
        "            t = min(T, self.position_embedding_table.num_embeddings)\n",
        "            tok_emb = self.token_embedding_table(token_ids[:, -t:]).reshape(B, t, -1)  # (B, T, D)\n",
        "            pos_emb = self.position_embedding_table(torch.arange(t, device=token_ids.device))  # (T, D)\n",
        "            x = tok_emb + pos_emb  # (B, T, D)\n",
        "            for block in self.blocks:\n",
        "                x, _ = block(x)\n",
        "            x = self.ln_f(x)\n",
        "            logits = self.lm_head(x)  # (B, T, V)\n",
        "            new_token = torch.distributions.Categorical(logits=logits[:, -1]).sample()\n",
        "            token_ids = torch.cat([token_ids, new_token.unsqueeze(1)], dim=1)\n",
        "        return token_ids\n"
      ]
    },
    {
      "cell_type": "markdown",
      "metadata": {
        "id": "RkZccvv4c4lr"
      },
      "source": [
        "### this code block updates train data according to how many bi and trigrams we include"
      ]
    },
    {
      "cell_type": "code",
      "execution_count": 37,
      "metadata": {
        "colab": {
          "base_uri": "https://localhost:8080/"
        },
        "id": "7ZAQzEQ5Z5HK",
        "outputId": "5d5d1406-4bc9-4944-dc0d-e5f37fa8f8e8"
      },
      "outputs": [
        {
          "output_type": "stream",
          "name": "stdout",
          "text": [
            "train has 664,015 tokens\n",
            "val has 75,083 tokens\n",
            "Dictionary has 315 tokens\n"
          ]
        }
      ],
      "source": [
        "# find the most common bigrams and trigrams (doubles and triple character combination)\n",
        "from collections import Counter\n",
        "#update this\n",
        "n_biandtri = 250\n",
        "\n",
        "# Ensure 'data' is defined with your full text\n",
        "n = len(data)\n",
        "train_chars = data[:int(n * 0.9)]\n",
        "val_chars = data[int(n * 0.9):]\n",
        "\n",
        "def BiandTrigrams(text, top=10):\n",
        "\n",
        "    text = text.replace(\"\\n\", \"\").replace(\" \", \"\")  # Remove spaces and newlines\n",
        "\n",
        "    ngram_count = Counter()\n",
        "    #pdb.st_trace()\n",
        "    for size in [2,3]:\n",
        "        ngrams = [text[i:i+size] for i in range(len(text) - size + 1)]\n",
        "        ngram_count.update(ngrams)\n",
        "\n",
        "    return [ngram for ngram, _ in ngram_count.most_common(top)]\n",
        "\n",
        "\n",
        "\n",
        "out = BiandTrigrams(train_chars, n_biandtri)\n",
        "#top 100 bigrams and trigrams\n",
        "\n",
        "# get all the unique characters that occur in this text\n",
        "chars = sorted(list(set(data)))\n",
        "\n",
        "dic = chars+list(out)\n",
        "\n",
        "# create a mapping from dic tionary of integers and bi/trigrams to integers\n",
        "stoi2 = { ch:i for i,ch in enumerate(dic) }\n",
        "itos2 = { i:ch for i,ch in enumerate(dic) }\n",
        "\n",
        "def encodeBiandTri(text):\n",
        "\n",
        "    i = 0\n",
        "    encoded_string = []\n",
        "    while i < len(text):\n",
        "\n",
        "        if i + 2 < len(text) and text[i:i+3] in stoi2:\n",
        "            encoded_string.append(stoi2[text[i:i+3]])\n",
        "            i += 3 #checks next three integers\n",
        "\n",
        "        elif i + 1 < len(text) and text[i:i+2] in stoi2:\n",
        "            encoded_string.append(stoi2[text[i:i+2]])\n",
        "            i += 2\n",
        "        # As above with doubles\n",
        "        elif text[i] in stoi2:\n",
        "            encoded_string.append(stoi2[text[i]])\n",
        "            i += 1\n",
        "        else:\n",
        "            raise ValueError(f\"Unknown token at index {i}: {text[i]}\")\n",
        "    return encoded_string\n",
        "\n",
        "def decode2(l):\n",
        "    return ''.join([itos2[i] for i in l]) # decoder: take a list of integers, output a string\n",
        "\n",
        "\n",
        "# Encode both datasets into lists of integers\n",
        "train_data = encodeBiandTri(train_chars)\n",
        "val_data = encodeBiandTri(val_chars)\n",
        "\n",
        "# Cast the lists to torch tensors\n",
        "train_data = torch.tensor(train_data)\n",
        "val_data = torch.tensor(val_data)\n",
        "\n",
        "print(f\"train has {len(train_data):,} tokens\")\n",
        "print(f\"val has {len(val_data):,} tokens\")\n",
        "\n",
        "vocab_size=len(dic)\n",
        "print(f\"Dictionary has {vocab_size} tokens\")"
      ]
    },
    {
      "cell_type": "code",
      "execution_count": 38,
      "metadata": {
        "id": "5zN24pfkYyAT"
      },
      "outputs": [],
      "source": [
        "# function for getting batches of data\n",
        "def get_batch(split, context_window_size, device, batch_size=32):\n",
        "    \"\"\"\n",
        "    generate a small batch of data of inputs x and targets y\n",
        "\n",
        "    Args:\n",
        "        split: 'train' or 'val'\n",
        "        device: 'cpu' or 'cuda' (should be 'cuda' if available)\n",
        "    \"\"\"\n",
        "    data = train_data if split == 'train' else val_data\n",
        "    ix = torch.randint(len(data) - context_window_size, (batch_size,))  # generate a bunch of starting positions\n",
        "    x = torch.stack([data[i:i+context_window_size] for i in ix]) # stack the data from each starting point\n",
        "    y = torch.stack([data[i+1:i+context_window_size+1] for i in ix])\n",
        "    x = x.to(device)\n",
        "    y = y.to(device)\n",
        "    return x, y\n",
        "\n",
        "# helper function for tracking loss during training\n",
        "# given to you\n",
        "@torch.no_grad()\n",
        "def estimate_loss(model, eval_iters, context_window_size, device):\n",
        "    \"\"\"\n",
        "    Args:\n",
        "      model: model being evaluated\n",
        "      eval_iters: number of batches to average over\n",
        "      context_window_size: size of the context window\n",
        "      device: 'cpu' or 'cuda' (should be 'cuda' if available)\n",
        "    \"\"\"\n",
        "    out = {}\n",
        "    for split in ['train', 'val']:\n",
        "        losses = torch.zeros(eval_iters)\n",
        "        for k in range(eval_iters):\n",
        "            X, Y = get_batch(split, context_window_size, device)\n",
        "            logits, loss = model(X, Y)\n",
        "            losses[k] = loss.item()\n",
        "        out[split] = losses.mean()\n",
        "    return out"
      ]
    },
    {
      "cell_type": "code",
      "execution_count": 39,
      "metadata": {
        "colab": {
          "base_uri": "https://localhost:8080/"
        },
        "id": "cNIK3j0F82d8",
        "outputId": "c23e07c5-5589-4339-905a-b074384e59da"
      },
      "outputs": [
        {
          "output_type": "stream",
          "name": "stderr",
          "text": [
            "<ipython-input-39-ce865b916456>:5: FutureWarning: `torch.cuda.amp.GradScaler(args...)` is deprecated. Please use `torch.amp.GradScaler('cuda', args...)` instead.\n",
            "  scaler = GradScaler()\n",
            "  0%|          | 0/4000 [00:00<?, ?it/s]"
          ]
        },
        {
          "output_type": "stream",
          "name": "stdout",
          "text": [
            "iteration 0 batch size 32\n"
          ]
        },
        {
          "output_type": "stream",
          "name": "stderr",
          "text": [
            "<ipython-input-39-ce865b916456>:63: FutureWarning: `torch.cuda.amp.autocast(args...)` is deprecated. Please use `torch.amp.autocast('cuda', args...)` instead.\n",
            "  with autocast():\n",
            "\r  0%|          | 1/4000 [00:24<26:48:34, 24.13s/it]"
          ]
        },
        {
          "output_type": "stream",
          "name": "stdout",
          "text": [
            "step 0: train loss 5.7527, val loss 5.7541\n"
          ]
        },
        {
          "output_type": "stream",
          "name": "stderr",
          "text": [
            "  5%|▌         | 200/4000 [00:52<08:49,  7.17it/s]"
          ]
        },
        {
          "output_type": "stream",
          "name": "stdout",
          "text": [
            "iteration 200 batch size 32\n"
          ]
        },
        {
          "output_type": "stream",
          "name": "stderr",
          "text": [
            "\r  5%|▌         | 201/4000 [01:16<7:49:11,  7.41s/it]"
          ]
        },
        {
          "output_type": "stream",
          "name": "stdout",
          "text": [
            "step 200: train loss 3.4808, val loss 3.4641\n"
          ]
        },
        {
          "output_type": "stream",
          "name": "stderr",
          "text": [
            " 10%|█         | 400/4000 [01:44<08:20,  7.20it/s]"
          ]
        },
        {
          "output_type": "stream",
          "name": "stdout",
          "text": [
            "iteration 400 batch size 32\n"
          ]
        },
        {
          "output_type": "stream",
          "name": "stderr",
          "text": [
            "\r 10%|█         | 401/4000 [02:08<7:27:52,  7.47s/it]"
          ]
        },
        {
          "output_type": "stream",
          "name": "stdout",
          "text": [
            "step 400: train loss 3.1366, val loss 3.1743\n"
          ]
        },
        {
          "output_type": "stream",
          "name": "stderr",
          "text": [
            " 15%|█▌        | 600/4000 [02:36<08:01,  7.06it/s]"
          ]
        },
        {
          "output_type": "stream",
          "name": "stdout",
          "text": [
            "iteration 600 batch size 32\n"
          ]
        },
        {
          "output_type": "stream",
          "name": "stderr",
          "text": [
            "\r 15%|█▌        | 601/4000 [03:01<7:00:11,  7.42s/it]"
          ]
        },
        {
          "output_type": "stream",
          "name": "stdout",
          "text": [
            "step 600: train loss 2.9752, val loss 3.0501\n"
          ]
        },
        {
          "output_type": "stream",
          "name": "stderr",
          "text": [
            " 20%|██        | 800/4000 [03:28<07:27,  7.14it/s]"
          ]
        },
        {
          "output_type": "stream",
          "name": "stdout",
          "text": [
            "iteration 800 batch size 32\n"
          ]
        },
        {
          "output_type": "stream",
          "name": "stderr",
          "text": [
            "\r 20%|██        | 801/4000 [03:53<6:38:10,  7.47s/it]"
          ]
        },
        {
          "output_type": "stream",
          "name": "stdout",
          "text": [
            "step 800: train loss 2.8234, val loss 2.9492\n"
          ]
        },
        {
          "output_type": "stream",
          "name": "stderr",
          "text": [
            " 25%|██▌       | 1000/4000 [04:21<06:57,  7.19it/s]"
          ]
        },
        {
          "output_type": "stream",
          "name": "stdout",
          "text": [
            "iteration 1000 batch size 32\n"
          ]
        },
        {
          "output_type": "stream",
          "name": "stderr",
          "text": [
            "\r 25%|██▌       | 1001/4000 [04:45<6:10:34,  7.41s/it]"
          ]
        },
        {
          "output_type": "stream",
          "name": "stdout",
          "text": [
            "step 1000: train loss 2.7162, val loss 2.8757\n"
          ]
        },
        {
          "output_type": "stream",
          "name": "stderr",
          "text": [
            " 30%|███       | 1200/4000 [05:13<06:34,  7.10it/s]"
          ]
        },
        {
          "output_type": "stream",
          "name": "stdout",
          "text": [
            "iteration 1200 batch size 32\n"
          ]
        },
        {
          "output_type": "stream",
          "name": "stderr",
          "text": [
            "\r 30%|███       | 1201/4000 [05:37<5:46:01,  7.42s/it]"
          ]
        },
        {
          "output_type": "stream",
          "name": "stdout",
          "text": [
            "step 1200: train loss 2.6034, val loss 2.8117\n"
          ]
        },
        {
          "output_type": "stream",
          "name": "stderr",
          "text": [
            " 35%|███▌      | 1400/4000 [06:05<06:03,  7.15it/s]"
          ]
        },
        {
          "output_type": "stream",
          "name": "stdout",
          "text": [
            "iteration 1400 batch size 32\n"
          ]
        },
        {
          "output_type": "stream",
          "name": "stderr",
          "text": [
            "\r 35%|███▌      | 1401/4000 [06:30<5:23:13,  7.46s/it]"
          ]
        },
        {
          "output_type": "stream",
          "name": "stdout",
          "text": [
            "step 1400: train loss 2.4934, val loss 2.7155\n"
          ]
        },
        {
          "output_type": "stream",
          "name": "stderr",
          "text": [
            " 40%|████      | 1600/4000 [06:58<05:32,  7.23it/s]"
          ]
        },
        {
          "output_type": "stream",
          "name": "stdout",
          "text": [
            "iteration 1600 batch size 32\n"
          ]
        },
        {
          "output_type": "stream",
          "name": "stderr",
          "text": [
            "\r 40%|████      | 1601/4000 [07:22<4:56:26,  7.41s/it]"
          ]
        },
        {
          "output_type": "stream",
          "name": "stdout",
          "text": [
            "step 1600: train loss 2.3883, val loss 2.6296\n"
          ]
        },
        {
          "output_type": "stream",
          "name": "stderr",
          "text": [
            " 45%|████▌     | 1800/4000 [07:50<05:06,  7.18it/s]"
          ]
        },
        {
          "output_type": "stream",
          "name": "stdout",
          "text": [
            "iteration 1800 batch size 32\n"
          ]
        },
        {
          "output_type": "stream",
          "name": "stderr",
          "text": [
            "\r 45%|████▌     | 1801/4000 [08:14<4:31:43,  7.41s/it]"
          ]
        },
        {
          "output_type": "stream",
          "name": "stdout",
          "text": [
            "step 1800: train loss 2.3084, val loss 2.5656\n"
          ]
        },
        {
          "output_type": "stream",
          "name": "stderr",
          "text": [
            " 50%|█████     | 2000/4000 [08:42<04:39,  7.16it/s]"
          ]
        },
        {
          "output_type": "stream",
          "name": "stdout",
          "text": [
            "iteration 2000 batch size 32\n"
          ]
        },
        {
          "output_type": "stream",
          "name": "stderr",
          "text": [
            "\r 50%|█████     | 2001/4000 [09:07<4:06:57,  7.41s/it]"
          ]
        },
        {
          "output_type": "stream",
          "name": "stdout",
          "text": [
            "step 2000: train loss 2.2386, val loss 2.5327\n"
          ]
        },
        {
          "output_type": "stream",
          "name": "stderr",
          "text": [
            " 55%|█████▌    | 2200/4000 [09:34<04:10,  7.19it/s]"
          ]
        },
        {
          "output_type": "stream",
          "name": "stdout",
          "text": [
            "iteration 2200 batch size 32\n"
          ]
        },
        {
          "output_type": "stream",
          "name": "stderr",
          "text": [
            "\r 55%|█████▌    | 2201/4000 [09:59<3:42:10,  7.41s/it]"
          ]
        },
        {
          "output_type": "stream",
          "name": "stdout",
          "text": [
            "step 2200: train loss 2.1632, val loss 2.4804\n"
          ]
        },
        {
          "output_type": "stream",
          "name": "stderr",
          "text": [
            " 60%|██████    | 2400/4000 [10:27<03:43,  7.16it/s]"
          ]
        },
        {
          "output_type": "stream",
          "name": "stdout",
          "text": [
            "iteration 2400 batch size 32\n"
          ]
        },
        {
          "output_type": "stream",
          "name": "stderr",
          "text": [
            "\r 60%|██████    | 2401/4000 [10:51<3:17:52,  7.42s/it]"
          ]
        },
        {
          "output_type": "stream",
          "name": "stdout",
          "text": [
            "step 2400: train loss 2.1191, val loss 2.4443\n"
          ]
        },
        {
          "output_type": "stream",
          "name": "stderr",
          "text": [
            " 65%|██████▌   | 2600/4000 [11:19<03:16,  7.14it/s]"
          ]
        },
        {
          "output_type": "stream",
          "name": "stdout",
          "text": [
            "iteration 2600 batch size 32\n"
          ]
        },
        {
          "output_type": "stream",
          "name": "stderr",
          "text": [
            "\r 65%|██████▌   | 2601/4000 [11:43<2:53:02,  7.42s/it]"
          ]
        },
        {
          "output_type": "stream",
          "name": "stdout",
          "text": [
            "step 2600: train loss 2.0653, val loss 2.4150\n"
          ]
        },
        {
          "output_type": "stream",
          "name": "stderr",
          "text": [
            " 70%|███████   | 2800/4000 [12:11<02:46,  7.19it/s]"
          ]
        },
        {
          "output_type": "stream",
          "name": "stdout",
          "text": [
            "iteration 2800 batch size 32\n"
          ]
        },
        {
          "output_type": "stream",
          "name": "stderr",
          "text": [
            "\r 70%|███████   | 2801/4000 [12:36<2:28:17,  7.42s/it]"
          ]
        },
        {
          "output_type": "stream",
          "name": "stdout",
          "text": [
            "step 2800: train loss 2.0169, val loss 2.3961\n"
          ]
        },
        {
          "output_type": "stream",
          "name": "stderr",
          "text": [
            " 75%|███████▌  | 3000/4000 [13:04<02:19,  7.19it/s]"
          ]
        },
        {
          "output_type": "stream",
          "name": "stdout",
          "text": [
            "iteration 3000 batch size 32\n"
          ]
        },
        {
          "output_type": "stream",
          "name": "stderr",
          "text": [
            "\r 75%|███████▌  | 3001/4000 [13:28<2:03:41,  7.43s/it]"
          ]
        },
        {
          "output_type": "stream",
          "name": "stdout",
          "text": [
            "step 3000: train loss 1.9786, val loss 2.3765\n"
          ]
        },
        {
          "output_type": "stream",
          "name": "stderr",
          "text": [
            " 80%|████████  | 3200/4000 [13:56<01:53,  7.08it/s]"
          ]
        },
        {
          "output_type": "stream",
          "name": "stdout",
          "text": [
            "iteration 3200 batch size 32\n"
          ]
        },
        {
          "output_type": "stream",
          "name": "stderr",
          "text": [
            "\r 80%|████████  | 3201/4000 [14:20<1:38:46,  7.42s/it]"
          ]
        },
        {
          "output_type": "stream",
          "name": "stdout",
          "text": [
            "step 3200: train loss 1.9293, val loss 2.3757\n"
          ]
        },
        {
          "output_type": "stream",
          "name": "stderr",
          "text": [
            " 85%|████████▌ | 3400/4000 [14:48<01:23,  7.21it/s]"
          ]
        },
        {
          "output_type": "stream",
          "name": "stdout",
          "text": [
            "iteration 3400 batch size 32\n"
          ]
        },
        {
          "output_type": "stream",
          "name": "stderr",
          "text": [
            "\r 85%|████████▌ | 3401/4000 [15:13<1:14:07,  7.42s/it]"
          ]
        },
        {
          "output_type": "stream",
          "name": "stdout",
          "text": [
            "step 3400: train loss 1.8867, val loss 2.3448\n"
          ]
        },
        {
          "output_type": "stream",
          "name": "stderr",
          "text": [
            " 90%|█████████ | 3600/4000 [15:40<00:55,  7.20it/s]"
          ]
        },
        {
          "output_type": "stream",
          "name": "stdout",
          "text": [
            "iteration 3600 batch size 32\n"
          ]
        },
        {
          "output_type": "stream",
          "name": "stderr",
          "text": [
            "\r 90%|█████████ | 3601/4000 [16:05<49:19,  7.42s/it]"
          ]
        },
        {
          "output_type": "stream",
          "name": "stdout",
          "text": [
            "step 3600: train loss 1.8560, val loss 2.3540\n"
          ]
        },
        {
          "output_type": "stream",
          "name": "stderr",
          "text": [
            " 95%|█████████▌| 3800/4000 [16:33<00:28,  6.97it/s]"
          ]
        },
        {
          "output_type": "stream",
          "name": "stdout",
          "text": [
            "iteration 3800 batch size 32\n"
          ]
        },
        {
          "output_type": "stream",
          "name": "stderr",
          "text": [
            "\r 95%|█████████▌| 3801/4000 [16:57<24:38,  7.43s/it]"
          ]
        },
        {
          "output_type": "stream",
          "name": "stdout",
          "text": [
            "step 3800: train loss 1.8044, val loss 2.3675\n"
          ]
        },
        {
          "output_type": "stream",
          "name": "stderr",
          "text": [
            "100%|█████████▉| 3999/4000 [17:25<00:00,  7.19it/s]"
          ]
        },
        {
          "output_type": "stream",
          "name": "stdout",
          "text": [
            "iteration 3999 batch size 32\n"
          ]
        },
        {
          "output_type": "stream",
          "name": "stderr",
          "text": [
            "100%|██████████| 4000/4000 [17:49<00:00,  3.74it/s]"
          ]
        },
        {
          "output_type": "stream",
          "name": "stdout",
          "text": [
            "step 3999: train loss 1.7778, val loss 2.3696\n"
          ]
        },
        {
          "output_type": "stream",
          "name": "stderr",
          "text": [
            "\n"
          ]
        }
      ],
      "source": [
        "LARGE_ITERS = 4000\n",
        "import itertools\n",
        "\n",
        "from torch.cuda.amp import autocast, GradScaler\n",
        "scaler = GradScaler()\n",
        "\n",
        "# trans = TransformerLM_VarAttn(vocab_size, CONTEXT_WINDOW_SIZE)\n",
        "trans = TransformerLM_2(vocab_size, CONTEXT_WINDOW_SIZE)\n",
        "tlm = trans.to(device)\n",
        "learning_rate = 1e-4\n",
        "# TODO, your code below\n",
        "\n",
        "from torch.optim.lr_scheduler import CosineAnnealingLR\n",
        "torch.manual_seed(760)\n",
        "\n",
        "optimizer = torch.optim.AdamW(trans.parameters(), lr=learning_rate)\n",
        "optimizer = torch.optim.AdamW([\n",
        "    {'params': [p for n, p in trans.named_parameters() if ('z' not in n and 'R' not in n)], 'lr': 1e-4},  # Default LR\n",
        "    {'params': [p for n, p in trans.named_parameters() if ('z' in n or 'R' in n)], 'lr': 0.01}  # Higher LR for z\n",
        "])\n",
        "# scheduler = CosineAnnealingLR(optimizer, T_max=LARGE_ITERS, eta_min=1e-6)\n",
        "\n",
        "eval_interval = 200\n",
        "\n",
        "# batch params\n",
        "batch_start = 16\n",
        "batch_max = 128\n",
        "batch_growth = LARGE_ITERS//4\n",
        "\n",
        "\n",
        "loss_list = []\n",
        "min_prev_val_loss = torch.tensor([100.]) #init\n",
        "for it in tqdm(range(LARGE_ITERS)):\n",
        "    #update the batch size\n",
        "    # batch_size = min(batch_start *(2**(it // batch_growth)), batch_max)\n",
        "    batch_size = 32\n",
        "\n",
        "\n",
        "    # every once in a while evaluate the loss on train and val sets\n",
        "    if it % eval_interval == 0 or it == LARGE_ITERS - 1:\n",
        "        print(f\"iteration {it}\", f\"batch size {batch_size}\")\n",
        "        losses = estimate_loss(tlm, EVAL_ITERS, CONTEXT_WINDOW_SIZE, device)\n",
        "\n",
        "        print(f\"step {it}: train loss {losses['train']:.4f}, val loss {losses['val']:.4f}\")\n",
        "        # update minimum prev val loss\n",
        "        min_prev_val_loss = torch.min(losses['val'],min_prev_val_loss)\n",
        "\n",
        "\n",
        "        # zs = list(itertools.chain.from_iterable( [[10 + head.z.item() +1 for head in tlm.blocks[i].atten_heads.heads] for i in range(6)]))\n",
        "        # Rs = list(itertools.chain.from_iterable( [[head.R  for head in tlm.blocks[i].atten_heads.heads] for i in range(6)]))\n",
        "\n",
        "\n",
        "        # print(f'min z: {min(zs)}, max; {max(zs)}, min R {min(Rs)}, max R {max(Rs)}')\n",
        "        # stop once our losses['val'] starts increasing\n",
        "        if it > 0 and losses['val'] > 1.02*min_prev_val_loss:\n",
        "            break\n",
        "\n",
        "    # sample a batch of data\n",
        "    xb, yb = get_batch('train', CONTEXT_WINDOW_SIZE, device, batch_size=batch_size)\n",
        "    optimizer.zero_grad(set_to_none=True)\n",
        "\n",
        "    # evaluate the loss\n",
        "    with autocast():\n",
        "      logits, loss = tlm(xb, yb)\n",
        "    scaler.scale(loss).backward(retain_graph=True)\n",
        "\n",
        "    # for head in tlm.blocks[0].atten_heads.heads:\n",
        "    #     print(10 + head.z.item() +1)\n",
        "    # messed around w grad clipping but decided not to include\n",
        "    # torch.nn.utils.clip_grad_norm_(tlm.parameters(), 1)\n",
        "    loss_list.append(loss.detach().item())\n",
        "\n",
        "    scaler.step(optimizer)\n",
        "    scaler.update()\n",
        "    # scheduler.step()\n",
        "# torch.save({\"model\": trans, \"loss_list\": loss_list}, \"RegAttn_250_model.pth\")\n",
        "# files.download(\"RegAttn_250_model.pth\")\n"
      ]
    },
    {
      "cell_type": "code",
      "execution_count": 40,
      "metadata": {
        "id": "z5WmzWqZW1pl"
      },
      "outputs": [],
      "source": [
        "# torch.save({\"model\": trans, \"loss_list\": loss_list}, \"RegAttn_250_model.pth\")\n",
        "# files.download(\"RegAttn_250_model.pth\")"
      ]
    },
    {
      "cell_type": "code",
      "execution_count": 41,
      "metadata": {
        "id": "5Kz6hhZV4ccS"
      },
      "outputs": [],
      "source": [
        "# # sum the zs over all heads\n",
        "# import numpy as np\n",
        "# zs = list(itertools.chain.from_iterable( [[head.z.item()for head in tlm.blocks[i].atten_heads.heads] for i in range(6)]))\n",
        "# 1e-20 * (np.abs(np.array(zs)).sum())"
      ]
    },
    {
      "cell_type": "code",
      "execution_count": 44,
      "metadata": {
        "id": "02Vfnx96vIgz"
      },
      "outputs": [],
      "source": [
        "# # unconditional generation from the model\n",
        "# start_context = torch.zeros((1, 1), dtype=torch.long, device=device)\n",
        "# uncond_gen = (tlm.generate(start_context, max_new_tokens=CONTEXT_WINDOW_SIZE)[0].tolist())\n",
        "# print(decode(uncond_gen))"
      ]
    },
    {
      "cell_type": "code",
      "execution_count": 45,
      "metadata": {
        "colab": {
          "base_uri": "https://localhost:8080/"
        },
        "id": "iN0R1ChffesX",
        "outputId": "a597a926-d987-4fbe-dc83-a239eaa1c4b9"
      },
      "outputs": [
        {
          "output_type": "stream",
          "name": "stdout",
          "text": [
            "\n",
            "May thrust son; and my poor emain;\n",
            "But he confided out thy rial, his holy shast\n",
            "Faincry out thy daughter's blood!\n",
            "With at you shall make the enemies aside on\n",
            "But then our son true hast\n",
            "With that I hate fear'd in hear and wooers.\n",
            "\n",
            "WARWICK:\n",
            "A mine, if true this trempets last he call'd;\n",
            "And I know he should fid the horse of him thinks\n",
            "With should be any equal the father off man\n",
            "Frest my so house! The \n"
          ]
        }
      ],
      "source": [
        "# unconditional generation from the model\n",
        "start_context = torch.zeros((1, 1), dtype=torch.long, device=device)\n",
        "uncond_gen = (tlm.generate(start_context, max_new_tokens=CONTEXT_WINDOW_SIZE)[0].tolist())\n",
        "print(decode2(uncond_gen))"
      ]
    },
    {
      "cell_type": "code",
      "execution_count": null,
      "metadata": {
        "id": "mefVVuDDnXsN"
      },
      "outputs": [],
      "source": [
        "        # print([10 + head.z.item() +1 for head in tlm.blocks[0].atten_heads.heads])\n"
      ]
    },
    {
      "cell_type": "code",
      "execution_count": null,
      "metadata": {
        "id": "aQRIK5-Bm5GY"
      },
      "outputs": [],
      "source": [
        "# tlm.blocks[1].atten_heads.heads[4].z.grad # making sure that the zs are getting gradients"
      ]
    },
    {
      "cell_type": "code",
      "execution_count": null,
      "metadata": {
        "id": "h3ZhuSPln2zH"
      },
      "outputs": [],
      "source": [
        "# for head in tlm.blocks[0].atten_heads.heads:\n",
        "#     print(f\"z grad: {head.z.grad}, requires_grad: {head.z.requires_grad}\")"
      ]
    },
    {
      "cell_type": "code",
      "execution_count": null,
      "metadata": {
        "id": "R3Lj3GrBi6Oa"
      },
      "outputs": [],
      "source": [
        "# tlm.to('cpu')\n",
        "# torch.cuda.empty_cache()"
      ]
    },
    {
      "cell_type": "code",
      "execution_count": null,
      "metadata": {
        "id": "h4QbO4BlA29V"
      },
      "outputs": [],
      "source": [
        "# # unconditional generation from the model\n",
        "# start_context = torch.zeros((1, 1), dtype=torch.long, device=device)\n",
        "# uncond_gen = (tlm.generate(start_context, max_new_tokens=CONTEXT_WINDOW_SIZE)[0].tolist())\n",
        "# print(decode(uncond_gen))"
      ]
    },
    {
      "cell_type": "code",
      "execution_count": null,
      "metadata": {
        "id": "WUwAzNUfsAvP"
      },
      "outputs": [],
      "source": [
        "\n",
        "# for head in tlm.blocks[0].atten_heads.heads:\n",
        "#     print(10 + head.z.item() +1)\n"
      ]
    },
    {
      "cell_type": "code",
      "execution_count": null,
      "metadata": {
        "id": "2QG1jISFjzKr"
      },
      "outputs": [],
      "source": [
        "# vocab_size"
      ]
    },
    {
      "cell_type": "markdown",
      "metadata": {
        "id": "SLN_ev93c4lt"
      },
      "source": [
        "### some scripts here to load our models to calculate the train and test loss"
      ]
    },
    {
      "cell_type": "code",
      "execution_count": null,
      "metadata": {
        "id": "qRSPWRvOhZjp"
      },
      "outputs": [],
      "source": [
        "# import os\n",
        "\n",
        "# model_dir = '/content/'\n",
        "\n",
        "# for filename in os.listdir(model_dir):\n",
        "#     if filename.endswith('.pth'):\n",
        "#       if '_250_' in filename:\n",
        "#         # break\n",
        "\n",
        "#           model_path = os.path.join(model_dir, filename)\n",
        "#           tlm = torch.load(model_path)\n",
        "#           tlm = tlm['model']\n",
        "\n",
        "#           losses = estimate_loss(tlm, EVAL_ITERS, CONTEXT_WINDOW_SIZE, device)\n",
        "#           print(f\"Model: {filename}, train loss {losses['train']:.4f}, val loss {losses['val']:.4f}\")"
      ]
    },
    {
      "cell_type": "code",
      "execution_count": null,
      "metadata": {
        "id": "idxGCeIFc4lt"
      },
      "outputs": [],
      "source": [
        "# z_values.shape"
      ]
    },
    {
      "cell_type": "markdown",
      "metadata": {
        "id": "781gZ3sTc4lt"
      },
      "source": [
        "# plotting for the writeup"
      ]
    },
    {
      "cell_type": "code",
      "execution_count": null,
      "metadata": {
        "id": "9yI886Chc4lt"
      },
      "outputs": [],
      "source": [
        "# import os\n",
        "# import torch\n",
        "\n",
        "# # load all the pth files in downloads and concatenate the z values for each head in each block to an array, with rows being each model and columns being each head\n",
        "\n",
        "# model_dir = '/Users/colecitrenbaum/Downloads/'  # Adjust this path to your model directory\n",
        "# z_values = []\n",
        "# model_names = []\n",
        "# for filename in os.listdir(model_dir):\n",
        "#     if filename.endswith('.pth'):\n",
        "#         if 'Var' in filename:\n",
        "#             model_path = os.path.join(model_dir, filename)\n",
        "#             filename = filename.replace('_model.pth','')\n",
        "#             filename = filename.replace('VarAttn_', '')\n",
        "#             model_names.append(filename)\n",
        "#             model_data = torch.load(model_path,weights_only=False,map_location=torch.device('cpu'))\n",
        "#             model = model_data['model']\n",
        "\n",
        "#             zs = []\n",
        "#             for block in model.blocks:\n",
        "#                 for head in block.atten_heads.heads:\n",
        "#                     zs.append(head.z.item())\n",
        "#             z_values.append(zs)\n",
        "\n",
        "\n",
        "# z_values = torch.tensor(z_values)\n",
        "# z_values = z_values + 1 +10\n"
      ]
    },
    {
      "cell_type": "code",
      "execution_count": null,
      "metadata": {
        "id": "9QnW_Y4Hc4lt"
      },
      "outputs": [],
      "source": [
        "# import pandas as pd\n",
        "# zs = pd.DataFrame(z_values).T\n",
        "# zs.columns = model_names\n",
        "# # reorder columns of zs\n",
        "# zs = zs[['CharsOnly','50','100','250']]"
      ]
    },
    {
      "cell_type": "code",
      "execution_count": null,
      "metadata": {
        "id": "28KR-MVGc4lt"
      },
      "outputs": [],
      "source": [
        "# fig, ax = plt.subplots(figsize=(12, 3))\n",
        "# settings = ['CharsOnly', '50', '100', '250']\n",
        "# for i, setting in enumerate(settings):\n",
        "#     ax.boxplot(zs.melt(id_vars=None, value_vars=model_names).query(f\"variable == '{setting}'\").value.values,\n",
        "#                positions=[i], widths=0.4)\n",
        "# ax.set_xticks(range(len(settings)))\n",
        "# ax.set_xticklabels(settings)\n",
        "# plt.ylabel('Adaptive Attention Span ')\n",
        "# plt.xlabel('Vocabulary Size (In Addition to 56 Characters)')\n",
        "# plt.title('Learned Adaptive Attention Span', fontweight=\"bold\", fontsize=20)\n",
        "# # plt.show()\n",
        "# ax.spines['bottom'].set_color('0')\n",
        "# ax.spines['top'].set_color('0')\n",
        "# ax.spines['right'].set_color('0')\n",
        "# ax.spines['left'].set_color('0')\n",
        "# # plt.savefig('/Users/colecitrenbaum/Documents/VarAttn.png')\n"
      ]
    },
    {
      "cell_type": "code",
      "execution_count": null,
      "metadata": {
        "id": "mk7fvj8Cc4lt"
      },
      "outputs": [],
      "source": [
        "# zs.melt(id_vars=None, value_vars=model_names).query(f\"variable == '{setting}'\").value.values"
      ]
    }
  ],
  "metadata": {
    "accelerator": "GPU",
    "colab": {
      "gpuType": "T4",
      "provenance": []
    },
    "kernelspec": {
      "display_name": "myenv",
      "language": "python",
      "name": "python3"
    },
    "language_info": {
      "codemirror_mode": {
        "name": "ipython",
        "version": 3
      },
      "file_extension": ".py",
      "mimetype": "text/x-python",
      "name": "python",
      "nbconvert_exporter": "python",
      "pygments_lexer": "ipython3",
      "version": "3.13.0"
    }
  },
  "nbformat": 4,
  "nbformat_minor": 0
}